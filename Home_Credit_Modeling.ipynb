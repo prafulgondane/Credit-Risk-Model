{
  "nbformat": 4,
  "nbformat_minor": 0,
  "metadata": {
    "colab": {
      "name": "Home-Credit-Modeling.ipynb",
      "provenance": [],
      "collapsed_sections": []
    },
    "kernelspec": {
      "display_name": "Python 3",
      "name": "python3"
    },
    "language_info": {
      "name": "python"
    },
    "accelerator": "GPU"
  },
  "cells": [
    {
      "cell_type": "code",
      "metadata": {
        "id": "7Ge_LQZakmmd"
      },
      "source": [
        "import pandas as pd\n",
        "from sklearn.preprocessing import Normalizer\n",
        "from sklearn.model_selection import train_test_split\n",
        "from sklearn.neighbors import KNeighborsClassifier\n",
        "from sklearn.calibration import CalibratedClassifierCV\n",
        "from sklearn.ensemble import RandomForestClassifier\n",
        "from sklearn.linear_model import LogisticRegression\n",
        "from xgboost import XGBClassifier\n",
        "from datetime import datetime\n",
        "from sklearn.metrics import log_loss\n",
        "import numpy as np\n",
        "import matplotlib.pyplot as plt\n",
        "from sklearn.metrics import confusion_matrix\n",
        "from sklearn.model_selection import RandomizedSearchCV\n",
        "from tqdm import tqdm\n",
        "from sklearn.preprocessing import LabelEncoder\n",
        "import warnings\n",
        "warnings.filterwarnings('ignore')\n",
        "\n",
        "import seaborn as sns\n",
        "%matplotlib inline\n",
        "import pickle\n",
        "import random\n",
        "import numpy as np\n",
        "from sklearn.metrics import roc_auc_score\n",
        "from sklearn.metrics import f1_score\n",
        "import gc\n",
        "\n",
        "\n",
        "from lightgbm import LGBMClassifier\n",
        "from sklearn.metrics import roc_auc_score, roc_curve\n",
        "from sklearn.model_selection import KFold, StratifiedKFold\n",
        "import pandas as pd\n",
        "import numpy as np\n",
        "import gc"
      ],
      "execution_count": 1,
      "outputs": []
    },
    {
      "cell_type": "code",
      "metadata": {
        "id": "BAhJ42Q8krXo"
      },
      "source": [
        "#you can load from disk\n",
        "X_train_with_encoded_feat_df, y_train = pickle.load(open(\"/content/drive/MyDrive/data/Self-Case-Study-1/train_data.pkl\", 'rb')) \n",
        "X_cv_with_encoded_feat_df, y_cv = pickle.load(open(\"/content/drive/MyDrive/data/Self-Case-Study-1/cv_data.pkl\", 'rb'))\n",
        "X_test_with_encoded_feat_df, SK_ID_CURR_test = pickle.load(open(\"/content/drive/MyDrive/data/Self-Case-Study-1/test_data.pkl\", 'rb'))"
      ],
      "execution_count": 2,
      "outputs": []
    },
    {
      "cell_type": "code",
      "metadata": {
        "colab": {
          "base_uri": "https://localhost:8080/",
          "height": 304
        },
        "id": "2OklSDhglBrd",
        "outputId": "b9d53783-0a5e-443d-a851-c3f20ec263c8"
      },
      "source": [
        "print(\"x_train, y_train :\", X_train_with_encoded_feat_df.shape, y_train.shape)\n",
        "print(\"X_cv, y_test :\", X_cv_with_encoded_feat_df.shape, y_cv.shape)\n",
        "print(\"x_test, SK_ID_CURR_test :\", X_test_with_encoded_feat_df.shape, SK_ID_CURR_test.shape)\n",
        "X_train_with_encoded_feat_df.head()"
      ],
      "execution_count": 3,
      "outputs": [
        {
          "output_type": "stream",
          "name": "stdout",
          "text": [
            "x_train, y_train : (246008, 807) (246008,)\n",
            "X_cv, y_test : (61503, 807) (61503,)\n",
            "x_test, SK_ID_CURR_test : (48744, 807) (48744,)\n"
          ]
        },
        {
          "output_type": "execute_result",
          "data": {
            "text/html": [
              "<div>\n",
              "<style scoped>\n",
              "    .dataframe tbody tr th:only-of-type {\n",
              "        vertical-align: middle;\n",
              "    }\n",
              "\n",
              "    .dataframe tbody tr th {\n",
              "        vertical-align: top;\n",
              "    }\n",
              "\n",
              "    .dataframe thead th {\n",
              "        text-align: right;\n",
              "    }\n",
              "</style>\n",
              "<table border=\"1\" class=\"dataframe\">\n",
              "  <thead>\n",
              "    <tr style=\"text-align: right;\">\n",
              "      <th></th>\n",
              "      <th>CNT_CHILDREN</th>\n",
              "      <th>AMT_INCOME_TOTAL</th>\n",
              "      <th>AMT_CREDIT</th>\n",
              "      <th>AMT_ANNUITY</th>\n",
              "      <th>AMT_GOODS_PRICE</th>\n",
              "      <th>REGION_POPULATION_RELATIVE</th>\n",
              "      <th>DAYS_BIRTH</th>\n",
              "      <th>DAYS_EMPLOYED</th>\n",
              "      <th>DAYS_REGISTRATION</th>\n",
              "      <th>DAYS_ID_PUBLISH</th>\n",
              "      <th>OWN_CAR_AGE</th>\n",
              "      <th>FLAG_MOBIL</th>\n",
              "      <th>FLAG_EMP_PHONE</th>\n",
              "      <th>FLAG_WORK_PHONE</th>\n",
              "      <th>FLAG_CONT_MOBILE</th>\n",
              "      <th>FLAG_PHONE</th>\n",
              "      <th>FLAG_EMAIL</th>\n",
              "      <th>CNT_FAM_MEMBERS</th>\n",
              "      <th>REGION_RATING_CLIENT</th>\n",
              "      <th>REGION_RATING_CLIENT_W_CITY</th>\n",
              "      <th>HOUR_APPR_PROCESS_START</th>\n",
              "      <th>REG_REGION_NOT_LIVE_REGION</th>\n",
              "      <th>REG_REGION_NOT_WORK_REGION</th>\n",
              "      <th>LIVE_REGION_NOT_WORK_REGION</th>\n",
              "      <th>REG_CITY_NOT_LIVE_CITY</th>\n",
              "      <th>REG_CITY_NOT_WORK_CITY</th>\n",
              "      <th>LIVE_CITY_NOT_WORK_CITY</th>\n",
              "      <th>EXT_SOURCE_1</th>\n",
              "      <th>EXT_SOURCE_2</th>\n",
              "      <th>EXT_SOURCE_3</th>\n",
              "      <th>APARTMENTS_AVG</th>\n",
              "      <th>BASEMENTAREA_AVG</th>\n",
              "      <th>YEARS_BEGINEXPLUATATION_AVG</th>\n",
              "      <th>YEARS_BUILD_AVG</th>\n",
              "      <th>COMMONAREA_AVG</th>\n",
              "      <th>ELEVATORS_AVG</th>\n",
              "      <th>ENTRANCES_AVG</th>\n",
              "      <th>FLOORSMAX_AVG</th>\n",
              "      <th>FLOORSMIN_AVG</th>\n",
              "      <th>LANDAREA_AVG</th>\n",
              "      <th>...</th>\n",
              "      <th>AUTO_ENC_FEAT_229</th>\n",
              "      <th>AUTO_ENC_FEAT_230</th>\n",
              "      <th>AUTO_ENC_FEAT_231</th>\n",
              "      <th>AUTO_ENC_FEAT_232</th>\n",
              "      <th>AUTO_ENC_FEAT_233</th>\n",
              "      <th>AUTO_ENC_FEAT_234</th>\n",
              "      <th>AUTO_ENC_FEAT_235</th>\n",
              "      <th>AUTO_ENC_FEAT_236</th>\n",
              "      <th>AUTO_ENC_FEAT_237</th>\n",
              "      <th>AUTO_ENC_FEAT_238</th>\n",
              "      <th>AUTO_ENC_FEAT_239</th>\n",
              "      <th>AUTO_ENC_FEAT_240</th>\n",
              "      <th>AUTO_ENC_FEAT_241</th>\n",
              "      <th>AUTO_ENC_FEAT_242</th>\n",
              "      <th>AUTO_ENC_FEAT_243</th>\n",
              "      <th>AUTO_ENC_FEAT_244</th>\n",
              "      <th>AUTO_ENC_FEAT_245</th>\n",
              "      <th>AUTO_ENC_FEAT_246</th>\n",
              "      <th>AUTO_ENC_FEAT_247</th>\n",
              "      <th>AUTO_ENC_FEAT_248</th>\n",
              "      <th>AUTO_ENC_FEAT_249</th>\n",
              "      <th>AUTO_ENC_FEAT_250</th>\n",
              "      <th>AUTO_ENC_FEAT_251</th>\n",
              "      <th>AUTO_ENC_FEAT_252</th>\n",
              "      <th>AUTO_ENC_FEAT_253</th>\n",
              "      <th>AUTO_ENC_FEAT_254</th>\n",
              "      <th>AUTO_ENC_FEAT_255</th>\n",
              "      <th>AUTO_ENC_FEAT_256</th>\n",
              "      <th>AUTO_ENC_FEAT_257</th>\n",
              "      <th>AUTO_ENC_FEAT_258</th>\n",
              "      <th>AUTO_ENC_FEAT_259</th>\n",
              "      <th>AUTO_ENC_FEAT_260</th>\n",
              "      <th>AUTO_ENC_FEAT_261</th>\n",
              "      <th>AUTO_ENC_FEAT_262</th>\n",
              "      <th>AUTO_ENC_FEAT_263</th>\n",
              "      <th>AUTO_ENC_FEAT_264</th>\n",
              "      <th>AUTO_ENC_FEAT_265</th>\n",
              "      <th>AUTO_ENC_FEAT_266</th>\n",
              "      <th>AUTO_ENC_FEAT_267</th>\n",
              "      <th>AUTO_ENC_FEAT_268</th>\n",
              "    </tr>\n",
              "  </thead>\n",
              "  <tbody>\n",
              "    <tr>\n",
              "      <th>0</th>\n",
              "      <td>0.052632</td>\n",
              "      <td>0.000858</td>\n",
              "      <td>0.201520</td>\n",
              "      <td>0.149724</td>\n",
              "      <td>0.170000</td>\n",
              "      <td>0.107702</td>\n",
              "      <td>0.880496</td>\n",
              "      <td>0.044770</td>\n",
              "      <td>0.968911</td>\n",
              "      <td>0.730443</td>\n",
              "      <td>0.142857</td>\n",
              "      <td>1.0</td>\n",
              "      <td>1.0</td>\n",
              "      <td>0.0</td>\n",
              "      <td>1.0</td>\n",
              "      <td>0.0</td>\n",
              "      <td>0.0</td>\n",
              "      <td>0.15</td>\n",
              "      <td>1.0</td>\n",
              "      <td>1.0</td>\n",
              "      <td>0.260870</td>\n",
              "      <td>0.0</td>\n",
              "      <td>0.0</td>\n",
              "      <td>0.0</td>\n",
              "      <td>1.0</td>\n",
              "      <td>1.0</td>\n",
              "      <td>0.0</td>\n",
              "      <td>0.136081</td>\n",
              "      <td>0.065394</td>\n",
              "      <td>0.000000</td>\n",
              "      <td>0.0000</td>\n",
              "      <td>0.0000</td>\n",
              "      <td>0.0000</td>\n",
              "      <td>0.0000</td>\n",
              "      <td>0.0000</td>\n",
              "      <td>0.0</td>\n",
              "      <td>0.0000</td>\n",
              "      <td>0.0000</td>\n",
              "      <td>0.0000</td>\n",
              "      <td>0.0000</td>\n",
              "      <td>...</td>\n",
              "      <td>-0.720127</td>\n",
              "      <td>-21.380575</td>\n",
              "      <td>30.214750</td>\n",
              "      <td>54.082024</td>\n",
              "      <td>47.379803</td>\n",
              "      <td>6.802106</td>\n",
              "      <td>10.525236</td>\n",
              "      <td>3.235331</td>\n",
              "      <td>-14.751412</td>\n",
              "      <td>18.335558</td>\n",
              "      <td>-29.882486</td>\n",
              "      <td>49.598232</td>\n",
              "      <td>-12.842958</td>\n",
              "      <td>-0.656301</td>\n",
              "      <td>40.943474</td>\n",
              "      <td>-66.163574</td>\n",
              "      <td>8.720140</td>\n",
              "      <td>-33.289314</td>\n",
              "      <td>-5.587688</td>\n",
              "      <td>-32.323174</td>\n",
              "      <td>-11.933872</td>\n",
              "      <td>27.807922</td>\n",
              "      <td>-15.636991</td>\n",
              "      <td>-21.904446</td>\n",
              "      <td>-14.697936</td>\n",
              "      <td>0.602181</td>\n",
              "      <td>9.064098</td>\n",
              "      <td>24.171661</td>\n",
              "      <td>-64.390938</td>\n",
              "      <td>-34.722599</td>\n",
              "      <td>34.220615</td>\n",
              "      <td>-13.681810</td>\n",
              "      <td>10.667553</td>\n",
              "      <td>-10.333195</td>\n",
              "      <td>48.315311</td>\n",
              "      <td>23.526415</td>\n",
              "      <td>6.872626</td>\n",
              "      <td>-40.929951</td>\n",
              "      <td>-7.971310</td>\n",
              "      <td>5.796223</td>\n",
              "    </tr>\n",
              "    <tr>\n",
              "      <th>1</th>\n",
              "      <td>0.052632</td>\n",
              "      <td>0.001204</td>\n",
              "      <td>0.056180</td>\n",
              "      <td>0.046094</td>\n",
              "      <td>0.066667</td>\n",
              "      <td>0.206749</td>\n",
              "      <td>0.566911</td>\n",
              "      <td>0.045762</td>\n",
              "      <td>0.976156</td>\n",
              "      <td>0.426845</td>\n",
              "      <td>0.142857</td>\n",
              "      <td>1.0</td>\n",
              "      <td>1.0</td>\n",
              "      <td>0.0</td>\n",
              "      <td>1.0</td>\n",
              "      <td>1.0</td>\n",
              "      <td>0.0</td>\n",
              "      <td>0.15</td>\n",
              "      <td>0.5</td>\n",
              "      <td>0.5</td>\n",
              "      <td>0.565217</td>\n",
              "      <td>0.0</td>\n",
              "      <td>1.0</td>\n",
              "      <td>1.0</td>\n",
              "      <td>0.0</td>\n",
              "      <td>1.0</td>\n",
              "      <td>1.0</td>\n",
              "      <td>0.340391</td>\n",
              "      <td>0.609292</td>\n",
              "      <td>0.348618</td>\n",
              "      <td>0.0000</td>\n",
              "      <td>0.0000</td>\n",
              "      <td>0.0000</td>\n",
              "      <td>0.0000</td>\n",
              "      <td>0.0000</td>\n",
              "      <td>0.0</td>\n",
              "      <td>0.0000</td>\n",
              "      <td>0.0000</td>\n",
              "      <td>0.0000</td>\n",
              "      <td>0.0000</td>\n",
              "      <td>...</td>\n",
              "      <td>-7.010778</td>\n",
              "      <td>-32.218906</td>\n",
              "      <td>18.948580</td>\n",
              "      <td>40.786293</td>\n",
              "      <td>32.507893</td>\n",
              "      <td>4.609162</td>\n",
              "      <td>6.759896</td>\n",
              "      <td>8.727826</td>\n",
              "      <td>9.116227</td>\n",
              "      <td>10.863968</td>\n",
              "      <td>-20.035261</td>\n",
              "      <td>57.990475</td>\n",
              "      <td>-19.747673</td>\n",
              "      <td>-11.311634</td>\n",
              "      <td>27.315098</td>\n",
              "      <td>-55.606003</td>\n",
              "      <td>-0.342421</td>\n",
              "      <td>-43.374065</td>\n",
              "      <td>-22.170963</td>\n",
              "      <td>-33.166046</td>\n",
              "      <td>-35.504677</td>\n",
              "      <td>20.055328</td>\n",
              "      <td>-14.847756</td>\n",
              "      <td>-25.783449</td>\n",
              "      <td>-5.792062</td>\n",
              "      <td>-2.412141</td>\n",
              "      <td>3.681906</td>\n",
              "      <td>-2.802591</td>\n",
              "      <td>-55.849709</td>\n",
              "      <td>-20.012156</td>\n",
              "      <td>51.642944</td>\n",
              "      <td>-30.636126</td>\n",
              "      <td>-12.199638</td>\n",
              "      <td>3.060375</td>\n",
              "      <td>59.152279</td>\n",
              "      <td>16.260664</td>\n",
              "      <td>38.686359</td>\n",
              "      <td>-26.992064</td>\n",
              "      <td>-2.300609</td>\n",
              "      <td>-2.562903</td>\n",
              "    </tr>\n",
              "    <tr>\n",
              "      <th>2</th>\n",
              "      <td>0.000000</td>\n",
              "      <td>0.001512</td>\n",
              "      <td>0.050506</td>\n",
              "      <td>0.067197</td>\n",
              "      <td>0.055556</td>\n",
              "      <td>0.635991</td>\n",
              "      <td>0.071928</td>\n",
              "      <td>1.000000</td>\n",
              "      <td>0.524054</td>\n",
              "      <td>0.368487</td>\n",
              "      <td>0.000000</td>\n",
              "      <td>1.0</td>\n",
              "      <td>0.0</td>\n",
              "      <td>0.0</td>\n",
              "      <td>1.0</td>\n",
              "      <td>0.0</td>\n",
              "      <td>0.0</td>\n",
              "      <td>0.10</td>\n",
              "      <td>0.0</td>\n",
              "      <td>0.0</td>\n",
              "      <td>0.782609</td>\n",
              "      <td>0.0</td>\n",
              "      <td>0.0</td>\n",
              "      <td>0.0</td>\n",
              "      <td>0.0</td>\n",
              "      <td>0.0</td>\n",
              "      <td>0.0</td>\n",
              "      <td>0.000000</td>\n",
              "      <td>0.116083</td>\n",
              "      <td>0.000000</td>\n",
              "      <td>0.1639</td>\n",
              "      <td>0.1395</td>\n",
              "      <td>0.9771</td>\n",
              "      <td>0.6872</td>\n",
              "      <td>0.0625</td>\n",
              "      <td>0.0</td>\n",
              "      <td>0.2759</td>\n",
              "      <td>0.1667</td>\n",
              "      <td>0.2083</td>\n",
              "      <td>0.0000</td>\n",
              "      <td>...</td>\n",
              "      <td>9.225342</td>\n",
              "      <td>-43.894855</td>\n",
              "      <td>52.221966</td>\n",
              "      <td>50.179001</td>\n",
              "      <td>47.181126</td>\n",
              "      <td>11.973767</td>\n",
              "      <td>4.080493</td>\n",
              "      <td>9.645566</td>\n",
              "      <td>3.116079</td>\n",
              "      <td>3.890710</td>\n",
              "      <td>-41.044231</td>\n",
              "      <td>50.709846</td>\n",
              "      <td>-23.527311</td>\n",
              "      <td>-1.377090</td>\n",
              "      <td>53.225128</td>\n",
              "      <td>-36.746056</td>\n",
              "      <td>3.774403</td>\n",
              "      <td>-34.400822</td>\n",
              "      <td>-14.016897</td>\n",
              "      <td>-42.558235</td>\n",
              "      <td>-10.417291</td>\n",
              "      <td>17.336338</td>\n",
              "      <td>-8.127788</td>\n",
              "      <td>-33.159588</td>\n",
              "      <td>-5.296687</td>\n",
              "      <td>-12.881882</td>\n",
              "      <td>-14.321919</td>\n",
              "      <td>-19.438055</td>\n",
              "      <td>-59.030636</td>\n",
              "      <td>-28.822632</td>\n",
              "      <td>39.115864</td>\n",
              "      <td>-20.692703</td>\n",
              "      <td>-16.809919</td>\n",
              "      <td>-3.240363</td>\n",
              "      <td>46.929291</td>\n",
              "      <td>18.130405</td>\n",
              "      <td>28.874016</td>\n",
              "      <td>-45.222668</td>\n",
              "      <td>-8.006999</td>\n",
              "      <td>8.946586</td>\n",
              "    </tr>\n",
              "    <tr>\n",
              "      <th>3</th>\n",
              "      <td>0.000000</td>\n",
              "      <td>0.002474</td>\n",
              "      <td>0.157303</td>\n",
              "      <td>0.084899</td>\n",
              "      <td>0.166667</td>\n",
              "      <td>0.141377</td>\n",
              "      <td>0.517813</td>\n",
              "      <td>0.042531</td>\n",
              "      <td>0.963308</td>\n",
              "      <td>0.570654</td>\n",
              "      <td>0.000000</td>\n",
              "      <td>1.0</td>\n",
              "      <td>1.0</td>\n",
              "      <td>0.0</td>\n",
              "      <td>1.0</td>\n",
              "      <td>0.0</td>\n",
              "      <td>0.0</td>\n",
              "      <td>0.05</td>\n",
              "      <td>1.0</td>\n",
              "      <td>1.0</td>\n",
              "      <td>0.739130</td>\n",
              "      <td>0.0</td>\n",
              "      <td>0.0</td>\n",
              "      <td>0.0</td>\n",
              "      <td>0.0</td>\n",
              "      <td>0.0</td>\n",
              "      <td>0.0</td>\n",
              "      <td>0.000000</td>\n",
              "      <td>0.192745</td>\n",
              "      <td>0.000000</td>\n",
              "      <td>0.0557</td>\n",
              "      <td>0.0580</td>\n",
              "      <td>0.9901</td>\n",
              "      <td>0.8640</td>\n",
              "      <td>0.0101</td>\n",
              "      <td>0.0</td>\n",
              "      <td>0.1379</td>\n",
              "      <td>0.1667</td>\n",
              "      <td>0.2083</td>\n",
              "      <td>0.0551</td>\n",
              "      <td>...</td>\n",
              "      <td>12.397394</td>\n",
              "      <td>-24.696718</td>\n",
              "      <td>33.314545</td>\n",
              "      <td>48.298119</td>\n",
              "      <td>42.908489</td>\n",
              "      <td>5.525703</td>\n",
              "      <td>3.561959</td>\n",
              "      <td>-3.482105</td>\n",
              "      <td>0.914114</td>\n",
              "      <td>13.761101</td>\n",
              "      <td>-29.465395</td>\n",
              "      <td>41.662655</td>\n",
              "      <td>-19.363537</td>\n",
              "      <td>-2.294974</td>\n",
              "      <td>46.188873</td>\n",
              "      <td>-41.641846</td>\n",
              "      <td>8.326042</td>\n",
              "      <td>-55.436508</td>\n",
              "      <td>-6.025340</td>\n",
              "      <td>-42.626358</td>\n",
              "      <td>-15.667298</td>\n",
              "      <td>13.805203</td>\n",
              "      <td>-11.722888</td>\n",
              "      <td>-21.029951</td>\n",
              "      <td>2.403604</td>\n",
              "      <td>10.047869</td>\n",
              "      <td>14.108294</td>\n",
              "      <td>-15.351163</td>\n",
              "      <td>-47.746216</td>\n",
              "      <td>-40.413887</td>\n",
              "      <td>31.687271</td>\n",
              "      <td>-12.822432</td>\n",
              "      <td>-2.266907</td>\n",
              "      <td>-16.574553</td>\n",
              "      <td>68.255836</td>\n",
              "      <td>30.941673</td>\n",
              "      <td>18.009893</td>\n",
              "      <td>-27.195431</td>\n",
              "      <td>-15.631901</td>\n",
              "      <td>24.896540</td>\n",
              "    </tr>\n",
              "    <tr>\n",
              "      <th>4</th>\n",
              "      <td>0.105263</td>\n",
              "      <td>0.000550</td>\n",
              "      <td>0.014202</td>\n",
              "      <td>0.042397</td>\n",
              "      <td>0.022222</td>\n",
              "      <td>0.142153</td>\n",
              "      <td>0.837655</td>\n",
              "      <td>0.039665</td>\n",
              "      <td>0.969374</td>\n",
              "      <td>0.577046</td>\n",
              "      <td>0.000000</td>\n",
              "      <td>1.0</td>\n",
              "      <td>1.0</td>\n",
              "      <td>1.0</td>\n",
              "      <td>1.0</td>\n",
              "      <td>1.0</td>\n",
              "      <td>0.0</td>\n",
              "      <td>0.20</td>\n",
              "      <td>1.0</td>\n",
              "      <td>1.0</td>\n",
              "      <td>0.434783</td>\n",
              "      <td>0.0</td>\n",
              "      <td>0.0</td>\n",
              "      <td>0.0</td>\n",
              "      <td>0.0</td>\n",
              "      <td>0.0</td>\n",
              "      <td>0.0</td>\n",
              "      <td>0.316856</td>\n",
              "      <td>0.342096</td>\n",
              "      <td>0.643083</td>\n",
              "      <td>0.0165</td>\n",
              "      <td>0.0572</td>\n",
              "      <td>0.9742</td>\n",
              "      <td>0.0000</td>\n",
              "      <td>0.0000</td>\n",
              "      <td>0.0</td>\n",
              "      <td>0.0690</td>\n",
              "      <td>0.0417</td>\n",
              "      <td>0.0000</td>\n",
              "      <td>0.0263</td>\n",
              "      <td>...</td>\n",
              "      <td>30.790634</td>\n",
              "      <td>-55.833031</td>\n",
              "      <td>27.542007</td>\n",
              "      <td>50.231171</td>\n",
              "      <td>26.726095</td>\n",
              "      <td>11.203657</td>\n",
              "      <td>8.624501</td>\n",
              "      <td>9.309386</td>\n",
              "      <td>1.581103</td>\n",
              "      <td>4.989879</td>\n",
              "      <td>-5.140399</td>\n",
              "      <td>50.381927</td>\n",
              "      <td>-14.573900</td>\n",
              "      <td>5.397296</td>\n",
              "      <td>38.714588</td>\n",
              "      <td>-45.842789</td>\n",
              "      <td>4.316581</td>\n",
              "      <td>-34.849709</td>\n",
              "      <td>-18.059795</td>\n",
              "      <td>-38.445332</td>\n",
              "      <td>-29.828312</td>\n",
              "      <td>11.379678</td>\n",
              "      <td>-16.957483</td>\n",
              "      <td>-38.453739</td>\n",
              "      <td>-10.267217</td>\n",
              "      <td>2.952976</td>\n",
              "      <td>0.118476</td>\n",
              "      <td>10.310831</td>\n",
              "      <td>-57.652695</td>\n",
              "      <td>-19.254440</td>\n",
              "      <td>35.169384</td>\n",
              "      <td>-14.720797</td>\n",
              "      <td>5.227349</td>\n",
              "      <td>-11.453207</td>\n",
              "      <td>53.344349</td>\n",
              "      <td>23.616760</td>\n",
              "      <td>31.673794</td>\n",
              "      <td>-38.888687</td>\n",
              "      <td>-17.776573</td>\n",
              "      <td>-1.671532</td>\n",
              "    </tr>\n",
              "  </tbody>\n",
              "</table>\n",
              "<p>5 rows × 807 columns</p>\n",
              "</div>"
            ],
            "text/plain": [
              "   CNT_CHILDREN  AMT_INCOME_TOTAL  ...  AUTO_ENC_FEAT_267  AUTO_ENC_FEAT_268\n",
              "0      0.052632          0.000858  ...          -7.971310           5.796223\n",
              "1      0.052632          0.001204  ...          -2.300609          -2.562903\n",
              "2      0.000000          0.001512  ...          -8.006999           8.946586\n",
              "3      0.000000          0.002474  ...         -15.631901          24.896540\n",
              "4      0.105263          0.000550  ...         -17.776573          -1.671532\n",
              "\n",
              "[5 rows x 807 columns]"
            ]
          },
          "metadata": {},
          "execution_count": 3
        }
      ]
    },
    {
      "cell_type": "code",
      "metadata": {
        "id": "GM3oOcSNJthv"
      },
      "source": [
        "X_train_with_encoded_feat_df['TARGET'] = y_train.to_list()\n",
        "X_cv_with_encoded_feat_df['TARGET'] = y_cv.to_list()\n",
        "# X_test_with_encoded_feat_df['TARGET'] = y_test.to_list()"
      ],
      "execution_count": 4,
      "outputs": []
    },
    {
      "cell_type": "code",
      "metadata": {
        "colab": {
          "base_uri": "https://localhost:8080/"
        },
        "id": "Y5SR5sIYLVnU",
        "outputId": "58db8980-5fd8-4ad3-a2e7-77c4ae32c1af"
      },
      "source": [
        "# Reference\n",
        "# https://www.kaggle.com/rafjaa/resampling-strategies-for-imbalanced-datasets\n",
        "\n",
        "print('Before over-sampling:')\n",
        "print(X_train_with_encoded_feat_df.TARGET.value_counts())\n",
        "# Class count\n",
        "count_class_0, count_class_1 = X_train_with_encoded_feat_df.TARGET.value_counts()\n",
        "print(count_class_0, count_class_1)\n",
        "# Divide by class\n",
        "df_class_0 = X_train_with_encoded_feat_df[X_train_with_encoded_feat_df['TARGET'] == 0]\n",
        "df_class_1 = X_train_with_encoded_feat_df[X_train_with_encoded_feat_df['TARGET'] == 1]\n",
        "\n",
        "df_class_1_over = df_class_1.sample(count_class_0, replace=True)\n",
        "\n",
        "X_train_with_encoded_feat_df = pd.concat([df_class_0, df_class_1_over], axis=0)\n",
        "print('After over-sampling:')\n",
        "print(X_train_with_encoded_feat_df.TARGET.value_counts())"
      ],
      "execution_count": null,
      "outputs": [
        {
          "name": "stdout",
          "output_type": "stream",
          "text": [
            "Before over-sampling:\n",
            "0    226148\n",
            "1     19860\n",
            "Name: TARGET, dtype: int64\n",
            "226148 19860\n",
            "After over-sampling:\n",
            "1    226148\n",
            "0    226148\n",
            "Name: TARGET, dtype: int64\n"
          ]
        }
      ]
    },
    {
      "cell_type": "code",
      "metadata": {
        "id": "cvp3jQ4Qs_07"
      },
      "source": [
        "\n",
        "from sklearn.metrics import confusion_matrix\n",
        "import seaborn as sns\n",
        "import matplotlib.pyplot as plt\n",
        "\n",
        "# This function plots the confusion matrices given y_i, y_i_hat.\n",
        "def plot_confusion_matrix(test_y, predict_y):\n",
        "    C = confusion_matrix(test_y, predict_y)\n",
        "    # C = 9,9 matrix, each cell (i,j) represents number of points of class i are predicted class j\n",
        "    \n",
        "    A =(((C.T)/(C.sum(axis=1))).T)\n",
        "    #divid each element of the confusion matrix with the sum of elements in that column\n",
        "    \n",
        "    # C = [[1, 2],\n",
        "    #     [3, 4]]\n",
        "    # C.T = [[1, 3],\n",
        "    #        [2, 4]]\n",
        "    # C.sum(axis = 1)  axis=0 corresonds to columns and axis=1 corresponds to rows in two diamensional array\n",
        "    # C.sum(axix =1) = [[3, 7]]\n",
        "    # ((C.T)/(C.sum(axis=1))) = [[1/3, 3/7]\n",
        "    #                           [2/3, 4/7]]\n",
        "\n",
        "    # ((C.T)/(C.sum(axis=1))).T = [[1/3, 2/3]\n",
        "    #                           [3/7, 4/7]]\n",
        "    # sum of row elements = 1\n",
        "    \n",
        "    B =(C/C.sum(axis=0))\n",
        "    #divid each element of the confusion matrix with the sum of elements in that row\n",
        "    # C = [[1, 2],\n",
        "    #     [3, 4]]\n",
        "    # C.sum(axis = 0)  axis=0 corresonds to columns and axis=1 corresponds to rows in two diamensional array\n",
        "    # C.sum(axix =0) = [[4, 6]]\n",
        "    # (C/C.sum(axis=0)) = [[1/4, 2/6],\n",
        "    #                      [3/4, 4/6]] \n",
        "    plt.figure(figsize=(20,4))\n",
        "    \n",
        "    labels = [0,1]\n",
        "    # representing A in heatmap format\n",
        "    cmap=sns.light_palette(\"blue\")\n",
        "    plt.subplot(1, 3, 1)\n",
        "    sns.heatmap(C, annot=True, cmap=cmap, fmt=\".3f\", xticklabels=labels, yticklabels=labels)\n",
        "    plt.xlabel('Predicted Class')\n",
        "    plt.ylabel('Original Class')\n",
        "    plt.title(\"Confusion matrix\")\n",
        "    \n",
        "    plt.subplot(1, 3, 2)\n",
        "    sns.heatmap(B, annot=True, cmap=cmap, fmt=\".3f\", xticklabels=labels, yticklabels=labels)\n",
        "    plt.xlabel('Predicted Class')\n",
        "    plt.ylabel('Original Class')\n",
        "    plt.title(\"Precision matrix\")\n",
        "    \n",
        "    plt.subplot(1, 3, 3)\n",
        "    # representing B in heatmap format\n",
        "    sns.heatmap(A, annot=True, cmap=cmap, fmt=\".3f\", xticklabels=labels, yticklabels=labels)\n",
        "    plt.xlabel('Predicted Class')\n",
        "    plt.ylabel('Original Class')\n",
        "    plt.title(\"Recall matrix\")\n",
        "    \n",
        "    plt.show()"
      ],
      "execution_count": 5,
      "outputs": []
    },
    {
      "cell_type": "code",
      "metadata": {
        "id": "e8Eb_Nbr2U7_"
      },
      "source": [
        "\n",
        "# Train\n",
        "X_train_with_encoded_feat_df = pd.concat([X_train_with_encoded_feat_df, X_cv_with_encoded_feat_df], ignore_index=True)\n",
        "# X_train_with_encoded_feat_df = X_train_with_encoded_feat_df\n",
        "y_train = X_train_with_encoded_feat_df['TARGET']\n",
        "X_train = X_train_with_encoded_feat_df.drop(columns=['TARGET'])\n",
        "\n",
        "# X_train, X_cv, y_train, y_cv = train_test_split(X_train, y_train, stratify = y_train, test_size=0.3, random_state=42)\n",
        "X_train, X_cv, y_train, y_cv = train_test_split(X_train, y_train, stratify = y_train, test_size=0.5, random_state=42)\n",
        "# X_val, X_test, y_val, y_test = train_test_split(X_temp, y_temp, stratify = y_temp, test_size=0.5, random_state=42)\n",
        "\n",
        "# # Train\n",
        "# X_train_with_encoded_feat_df = X_train_with_encoded_feat_df #X_train_with_encoded_feat_df.sample(frac =.50)\n",
        "# y_train = X_train_with_encoded_feat_df['TARGET']\n",
        "# X_train = X_train_with_encoded_feat_df.drop(columns=['TARGET'])\n",
        "\n",
        "# CV\n",
        "# X_cv_with_encoded_feat_df = X_cv_with_encoded_feat_df.sample(frac =.25)\n",
        "y_cv = X_cv_with_encoded_feat_df['TARGET']\n",
        "X_cv = X_cv_with_encoded_feat_df.drop(columns=['TARGET'])\n",
        "\n",
        "# Test\n",
        "# X_test_with_encoded_feat_df = X_test_with_encoded_feat_df.sample(frac =.25)\n",
        "# y_test = X_test_with_encoded_feat_df['TARGET']\n",
        "# X_test = X_test_with_encoded_feat_df.drop(columns=['TARGET'])\n",
        "X_test = X_test_with_encoded_feat_df\n",
        "\n"
      ],
      "execution_count": 6,
      "outputs": []
    },
    {
      "cell_type": "code",
      "metadata": {
        "colab": {
          "base_uri": "https://localhost:8080/"
        },
        "id": "m8o3LQUZTK0g",
        "outputId": "36de89c1-4f0a-43e7-be91-0dec5f3ff2d1"
      },
      "source": [
        "print(\"x_train, y_train :\", X_train.shape, y_train.shape)\n",
        "print(\"X_cv, y_cv :\", X_cv.shape, y_cv.shape)\n",
        "print(\"x_test, y_test :\", X_test.shape, SK_ID_CURR_test.shape)"
      ],
      "execution_count": 7,
      "outputs": [
        {
          "output_type": "stream",
          "name": "stdout",
          "text": [
            "x_train, y_train : (153755, 807) (153755,)\n",
            "X_cv, y_cv : (61503, 807) (61503,)\n",
            "x_test, y_test : (48744, 807) (48744,)\n"
          ]
        }
      ]
    },
    {
      "cell_type": "markdown",
      "metadata": {
        "id": "nQtoECIRKvCT"
      },
      "source": [
        "# **Random Model**"
      ]
    },
    {
      "cell_type": "code",
      "metadata": {
        "colab": {
          "base_uri": "https://localhost:8080/",
          "height": 699
        },
        "id": "O_5YkNlNK0dO",
        "outputId": "10bb8603-00fa-43bb-8773-d995684b0d53"
      },
      "source": [
        "import random\n",
        "import numpy as np\n",
        "from sklearn.metrics import roc_auc_score\n",
        "from sklearn.metrics import f1_score\n",
        "\n",
        "# y_train = X_train_balanced_df['TARGET']\n",
        "# X_train = X_train_balanced_df.drop(columns=['TARGET'])\n",
        "print(\" Train Data : \")\n",
        "print(\"#\"*100)\n",
        "randomlist = np.random.rand(X_train.shape[0])\n",
        "pred_y = [ 1 if val > 0.5 else 0 for val in randomlist]\n",
        "print(\" Train AUC Score Random Model : \", roc_auc_score(y_train.to_list(), pred_y))\n",
        "print(\" Train F1 - Score Random Model : \", f1_score(y_train.to_list(), pred_y))\n",
        "plot_confusion_matrix(y_train.to_list(), pred_y)\n",
        "\n",
        "print(\" CV Data : \")\n",
        "print(\"#\"*100)\n",
        "\n",
        "randomlist = np.random.rand(X_cv.shape[0])\n",
        "pred_y = [ 1 if val > 0.5 else 0 for val in randomlist]\n",
        "print(\" Test AUC Score Random Model : \", roc_auc_score(y_cv.to_list(), pred_y))\n",
        "print(\" Test F1 - Score Random Model : \", f1_score(y_cv.to_list(), pred_y))\n",
        "plot_confusion_matrix(y_cv.to_list(), pred_y)\n",
        "# X_test_with_encoded_feat_df, y_test"
      ],
      "execution_count": null,
      "outputs": [
        {
          "name": "stdout",
          "output_type": "stream",
          "text": [
            " Train Data : \n",
            "####################################################################################################\n",
            " Train AUC Score Random Model :  0.5001291698549122\n",
            " Train F1 - Score Random Model :  0.5002011663225469\n"
          ]
        },
        {
          "data": {
            "image/png": "[encoded data removed]",
            "text/plain": [
              "<Figure size 1440x288 with 6 Axes>"
            ]
          },
          "metadata": {
            "tags": []
          },
          "output_type": "display_data"
        },
        {
          "name": "stdout",
          "output_type": "stream",
          "text": [
            " CV Data : \n",
            "####################################################################################################\n",
            " Test AUC Score Random Model :  0.4920507545175349\n",
            " Test F1 - Score Random Model :  0.135012847726511\n"
          ]
        },
        {
          "data": {
            "image/png": "[encoded data removed]",
            "text/plain": [
              "<Figure size 1440x288 with 6 Axes>"
            ]
          },
          "metadata": {
            "tags": []
          },
          "output_type": "display_data"
        }
      ]
    },
    {
      "cell_type": "markdown",
      "metadata": {
        "id": "kdNh3EkuHQPP"
      },
      "source": [
        "# **Logistic Regression**"
      ]
    },
    {
      "cell_type": "code",
      "metadata": {
        "colab": {
          "base_uri": "https://localhost:8080/",
          "height": 1000
        },
        "id": "dyeVyD9bHTnB",
        "outputId": "3695b378-4687-4f86-c5e5-e93cd1aa9aaa"
      },
      "source": [
        "import warnings\n",
        "\n",
        "from sklearn.linear_model import SGDClassifier\n",
        "warnings.filterwarnings(\"ignore\")\n",
        "alpha = [10 ** x for x in range(-5, 4)]\n",
        "cv_log_error_array=[]\n",
        "cv_auc_score = []\n",
        "for i in tqdm(alpha):\n",
        "    # LR=LogisticRegression(penalty='l2',C=i,class_weight='balanced')\n",
        "    clf = SGDClassifier(alpha=i, penalty='l1',class_weight = 'balanced', loss='log', random_state=28)\n",
        "    clf.fit(X_train,y_train)\n",
        "    CC = CalibratedClassifierCV(clf, method=\"sigmoid\")\n",
        "    CC.fit(X_train,y_train)\n",
        "    # predict_y = CC.predict_proba(X_cv)\n",
        "    predict_y = CC.predict_proba(X_cv)[:,1]\n",
        "    cv_log_error_array.append(log_loss(y_cv, predict_y, labels=clf.classes_, eps=1e-15))\n",
        "    cv_auc_score.append(roc_auc_score(y_cv,predict_y))\n",
        "    \n",
        "for i in range(len(cv_log_error_array)):\n",
        "    print ('log_loss for c = ',alpha[i],'is',cv_log_error_array[i] , cv_auc_score[i])\n",
        "\n",
        "best_alpha = np.argmin(cv_log_error_array)\n",
        "    \n",
        "fig, ax = plt.subplots()\n",
        "ax.plot(alpha, cv_log_error_array,c='g')\n",
        "for i, txt in enumerate(np.round(cv_log_error_array,3)):\n",
        "    ax.annotate((alpha[i],np.round(txt,3)), (alpha[i],cv_auc_score[i]))\n",
        "plt.grid()\n",
        "plt.title(\"Cross Validation Error for each alpha\")\n",
        "plt.xlabel(\"Alpha i's\")\n",
        "plt.ylabel(\"Error measure\")\n",
        "plt.show()"
      ],
      "execution_count": null,
      "outputs": [
        {
          "name": "stderr",
          "output_type": "stream",
          "text": [
            "100%|██████████| 9/9 [4:59:32<00:00, 1996.98s/it]\n"
          ]
        },
        {
          "name": "stdout",
          "output_type": "stream",
          "text": [
            "log_loss for c =  1e-05 is 0.2535900124489589 0.7440763650409777\n",
            "log_loss for c =  0.0001 is 0.25954084990642545 0.7333100211152981\n",
            "log_loss for c =  0.001 is 0.2580776669966924 0.7384518186433408\n",
            "log_loss for c =  0.01 is 0.2633641779187876 0.7400544980094664\n",
            "log_loss for c =  0.1 is 0.26605650439953876 0.7028340019387187\n",
            "log_loss for c =  1 is 0.2753664993616989 0.6366966195182044\n",
            "log_loss for c =  10 is 0.2805432489186437 0.5\n",
            "log_loss for c =  100 is 0.2805432489186436 0.5\n",
            "log_loss for c =  1000 is 0.28054324891864363 0.5\n"
          ]
        },
        {
          "data": {
            "image/png": "[encoded data removed]",
            "text/plain": [
              "<Figure size 432x288 with 1 Axes>"
            ]
          },
          "metadata": {},
          "output_type": "display_data"
        }
      ]
    },
    {
      "cell_type": "code",
      "metadata": {
        "colab": {
          "base_uri": "https://localhost:8080/",
          "height": 743
        },
        "id": "xfrKprP7KKNE",
        "outputId": "1c3dac5e-a45f-45c3-cda0-d335841d7a9b"
      },
      "source": [
        "#PREDICTION WITH BEST ALPHA\n",
        "# LR=LogisticRegression(penalty='l2',C=alpha[best_alpha],class_weight='balanced')\n",
        "clf = SGDClassifier(alpha=alpha[best_alpha], penalty='l1',class_weight = 'balanced', loss='log', random_state=28)\n",
        "clf.fit(X_train,y_train)\n",
        "CC = CalibratedClassifierCV(clf, method=\"sigmoid\")\n",
        "CC.fit(X_train,y_train)\n",
        "\n",
        "\n",
        "print(\" Train Data : \")\n",
        "print(\"#\"*100)\n",
        "predict_y = CC.predict_proba(X_train)\n",
        "print ('log loss for train data',(log_loss(y_train, predict_y, labels=clf.classes_, eps=1e-15)))\n",
        "print(\" Train AUC Score LR Model : \", roc_auc_score(y_train,predict_y[:,1]))\n",
        "predict_y = [1 if y>0.5 else 0 for y in predict_y[:, 1]] #np.argmax(predict_y, axis=1)\n",
        "print(\" Train F1 - Score LR Model : \", f1_score(y_train,predict_y))\n",
        "plot_confusion_matrix(y_train, predict_y)\n",
        "\n",
        "print(\" CV Data : \")\n",
        "print(\"#\"*100)\n",
        "predict_y = CC.predict_proba(X_cv)\n",
        "print ('log loss for cv data',(log_loss(y_cv, predict_y, labels=clf.classes_, eps=1e-15)))\n",
        "print(\" CV AUC Score LR Model : \", roc_auc_score(y_cv,predict_y[:,1]))\n",
        "predict_y = [1 if y>0.5 else 0 for y in predict_y[:, 1]] #np.argmax(predict_y, axis=1)\n",
        "print(\" CV F1 - Score LR Model : \", f1_score(y_cv,predict_y))\n",
        "plot_confusion_matrix(y_cv, predict_y)\n",
        "\n",
        "# print(\" Test Data : \")\n",
        "# print(\"#\"*100)\n",
        "# predict_y = CC.predict_proba(X_test)\n",
        "# print ('log loss for test data',(log_loss(y_test, predict_y, labels=LR.classes_, eps=1e-15)))\n",
        "# predict_y =np.argmax(predict_y, axis=1)\n",
        "# print(\" Test AUC Score LR Model : \", roc_auc_score(y_test,predict_y))\n",
        "# print(\" Test F1 - Score LR Model : \", f1_score(y_test,predict_y))\n",
        "# plot_confusion_matrix(y_test, predict_y)\n",
        "\n",
        "# confusion_matrix(y_test,CC.predict(X_test))\n",
        "\n",
        "\n",
        "# plot_confusion_matrix(y_test, predict_y)"
      ],
      "execution_count": null,
      "outputs": [
        {
          "name": "stdout",
          "output_type": "stream",
          "text": [
            " Train Data : \n",
            "####################################################################################################\n",
            "log loss for train data 0.254796143673776\n",
            " Train AUC Score LR Model :  0.7375534826960569\n",
            " Train F1 - Score LR Model :  0.0002301628402094482\n"
          ]
        },
        {
          "data": {
            "image/png": "[encoded data removed]",
            "text/plain": [
              "<Figure size 1440x288 with 6 Axes>"
            ]
          },
          "metadata": {},
          "output_type": "display_data"
        },
        {
          "name": "stdout",
          "output_type": "stream",
          "text": [
            " CV Data : \n",
            "####################################################################################################\n",
            "log loss for cv data 0.2535900124489589\n",
            " CV AUC Score LR Model :  0.7440763650409777\n",
            " CV F1 - Score LR Model :  0.0\n"
          ]
        },
        {
          "data": {
            "image/png": "[encoded data removed]",
            "text/plain": [
              "<Figure size 1440x288 with 6 Axes>"
            ]
          },
          "metadata": {},
          "output_type": "display_data"
        }
      ]
    },
    {
      "cell_type": "code",
      "metadata": {
        "colab": {
          "base_uri": "https://localhost:8080/",
          "height": 238
        },
        "id": "CLQUnc6tliKU",
        "outputId": "fa20c876-048a-4abd-feae-a2ee542aa068"
      },
      "source": [
        "print(\" Test Data : \")\n",
        "print(\"#\"*100)\n",
        "predict_y = CC.predict_proba(X_test)\n",
        "predict_y = predict_y[:, 1] #np.argmax(predict_y, axis=1)\n",
        "# initialise data of lists.\n",
        "data = {'SK_ID_CURR':SK_ID_CURR_test.to_list(),\n",
        "        'TARGET':predict_y}\n",
        " \n",
        "# Create DataFrame\n",
        "df = pd.DataFrame(data)\n",
        "df.to_csv('/content/drive/MyDrive/data/Self-Case-Study-1/LR_Submission.csv', index=False)\n",
        "df.head()"
      ],
      "execution_count": null,
      "outputs": [
        {
          "name": "stdout",
          "output_type": "stream",
          "text": [
            " Test Data : \n",
            "####################################################################################################\n"
          ]
        },
        {
          "data": {
            "text/html": [
              "<div>\n",
              "<style scoped>\n",
              "    .dataframe tbody tr th:only-of-type {\n",
              "        vertical-align: middle;\n",
              "    }\n",
              "\n",
              "    .dataframe tbody tr th {\n",
              "        vertical-align: top;\n",
              "    }\n",
              "\n",
              "    .dataframe thead th {\n",
              "        text-align: right;\n",
              "    }\n",
              "</style>\n",
              "<table border=\"1\" class=\"dataframe\">\n",
              "  <thead>\n",
              "    <tr style=\"text-align: right;\">\n",
              "      <th></th>\n",
              "      <th>SK_ID_CURR</th>\n",
              "      <th>TARGET</th>\n",
              "    </tr>\n",
              "  </thead>\n",
              "  <tbody>\n",
              "    <tr>\n",
              "      <th>0</th>\n",
              "      <td>100001</td>\n",
              "      <td>0.041319</td>\n",
              "    </tr>\n",
              "    <tr>\n",
              "      <th>1</th>\n",
              "      <td>100005</td>\n",
              "      <td>0.091620</td>\n",
              "    </tr>\n",
              "    <tr>\n",
              "      <th>2</th>\n",
              "      <td>100013</td>\n",
              "      <td>0.029848</td>\n",
              "    </tr>\n",
              "    <tr>\n",
              "      <th>3</th>\n",
              "      <td>100028</td>\n",
              "      <td>0.061850</td>\n",
              "    </tr>\n",
              "    <tr>\n",
              "      <th>4</th>\n",
              "      <td>100038</td>\n",
              "      <td>0.106510</td>\n",
              "    </tr>\n",
              "  </tbody>\n",
              "</table>\n",
              "</div>"
            ],
            "text/plain": [
              "   SK_ID_CURR    TARGET\n",
              "0      100001  0.041319\n",
              "1      100005  0.091620\n",
              "2      100013  0.029848\n",
              "3      100028  0.061850\n",
              "4      100038  0.106510"
            ]
          },
          "execution_count": 24,
          "metadata": {},
          "output_type": "execute_result"
        }
      ]
    },
    {
      "cell_type": "markdown",
      "metadata": {
        "id": "5fbuferYFnXx"
      },
      "source": [
        "# **Random Forest**"
      ]
    },
    {
      "cell_type": "code",
      "metadata": {
        "colab": {
          "base_uri": "https://localhost:8080/"
        },
        "id": "cuXMQLvWFrf7",
        "outputId": "7f9ed806-3175-48b2-a500-a4f955a71328"
      },
      "source": [
        "from tqdm import tqdm\n",
        "alpha=[50, 100, 150, 200]\n",
        "max_depth = [7, 10]\n",
        "cv_log_error_array=[]\n",
        "cv_auc_score = []\n",
        "for i in tqdm(alpha):\n",
        "  for d in max_depth:\n",
        "    RF=RandomForestClassifier(n_estimators=i, max_depth=d, random_state=42,n_jobs=-1, class_weight='balanced')\n",
        "    RF.fit(X_train,y_train)\n",
        "    CC = CalibratedClassifierCV(RF, method=\"sigmoid\")\n",
        "    CC.fit(X_train,y_train)\n",
        "    # predict_y = CC.predict_proba(X_cv)\n",
        "    predict_ty = CC.predict_proba(X_train)[:,1]\n",
        "    predict_y = CC.predict_proba(X_cv)[:,1]\n",
        "    cv_log_error_array.append(log_loss(y_cv, predict_y, labels=RF.classes_, eps=1e-15))\n",
        "    cv_auc_score.append(roc_auc_score(y_cv,predict_y))\n",
        "    print('For n_estimators {0}, max_depth {1} Train AUC {2} cross validation AUC score {3}'.format(i,d,roc_auc_score(y_train,predict_ty), roc_auc_score(y_cv,predict_y)))\n",
        "    print ('log_loss for c = ',i, d,'is',log_loss(y_cv, predict_y, labels=RF.classes_, eps=1e-15))\n",
        "    gc.collect()\n",
        "\n",
        "# for i in range(len(cv_log_error_array)):\n",
        "#     print ('log_loss for c = ',alpha[i],'is',cv_log_error_array[i], )\n",
        "\n",
        "\n",
        "# best_alpha = np.argmin(cv_log_error_array)\n",
        "# print ('best_alpha = ', best_alpha, alpha[best_alpha])\n",
        "\n",
        "# fig, ax = plt.subplots()\n",
        "# ax.plot(alpha, cv_log_error_array,c='g')\n",
        "# for i, txt in enumerate(np.round(cv_log_error_array,3)):\n",
        "#     ax.annotate((alpha[i],np.round(txt,3)), (alpha[i],cv_log_error_array[i]))\n",
        "# plt.grid()\n",
        "# plt.title(\"Cross Validation Error for each alpha\")\n",
        "# plt.xlabel(\"Alpha i's\")\n",
        "# plt.ylabel(\"Error measure\")\n",
        "# plt.show()\n",
        "\n"
      ],
      "execution_count": null,
      "outputs": [
        {
          "name": "stderr",
          "output_type": "stream",
          "text": [
            "\r  0%|          | 0/4 [00:00<?, ?it/s]"
          ]
        },
        {
          "name": "stdout",
          "output_type": "stream",
          "text": [
            "For n_estimators 50, max_depth 7 Train AUC 0.7734269822819707 cross validation AUC score 0.7682332840549237\n",
            "log_loss for c =  50 7 is 0.24515570297785025\n"
          ]
        },
        {
          "name": "stderr",
          "output_type": "stream",
          "text": [
            "\r 25%|██▌       | 1/4 [22:32<1:07:37, 1352.59s/it]"
          ]
        },
        {
          "name": "stdout",
          "output_type": "stream",
          "text": [
            "For n_estimators 50, max_depth 10 Train AUC 0.8742557546082157 cross validation AUC score 0.8403648347873011\n",
            "log_loss for c =  50 10 is 0.22610873554675567\n",
            "For n_estimators 100, max_depth 7 Train AUC 0.7758125166879413 cross validation AUC score 0.7699741481609014\n",
            "log_loss for c =  100 7 is 0.24441022285326425\n",
            "For n_estimators 100, max_depth 10 Train AUC 0.8760046174085928 cross validation AUC score 0.8418967581518042\n",
            "log_loss for c =  100 10 is 0.22493947234005696\n"
          ]
        },
        {
          "name": "stderr",
          "output_type": "stream",
          "text": [
            "\r 50%|█████     | 2/4 [1:07:42<1:11:42, 2151.05s/it]"
          ]
        },
        {
          "name": "stdout",
          "output_type": "stream",
          "text": [
            "For n_estimators 150, max_depth 7 Train AUC 0.7757729768893191 cross validation AUC score 0.7697553645620872\n",
            "log_loss for c =  150 7 is 0.24441765190521458\n"
          ]
        },
        {
          "name": "stderr",
          "output_type": "stream",
          "text": [
            "\r 75%|███████▌  | 3/4 [2:16:04<50:41, 3041.97s/it]  "
          ]
        },
        {
          "name": "stdout",
          "output_type": "stream",
          "text": [
            "For n_estimators 150, max_depth 10 Train AUC 0.8764519536947196 cross validation AUC score 0.8418132488279679\n",
            "log_loss for c =  150 10 is 0.22471213262032216\n",
            "For n_estimators 200, max_depth 7 Train AUC 0.7759392333669276 cross validation AUC score 0.7700290088207036\n",
            "log_loss for c =  200 7 is 0.2443205266878428\n"
          ]
        },
        {
          "name": "stderr",
          "output_type": "stream",
          "text": [
            "100%|██████████| 4/4 [3:44:43<00:00, 3370.78s/it]"
          ]
        },
        {
          "name": "stdout",
          "output_type": "stream",
          "text": [
            "For n_estimators 200, max_depth 10 Train AUC 0.8768598606935769 cross validation AUC score 0.8420544148635054\n",
            "log_loss for c =  200 10 is 0.22445979658915463\n"
          ]
        },
        {
          "name": "stderr",
          "output_type": "stream",
          "text": [
            "\n"
          ]
        }
      ]
    },
    {
      "cell_type": "code",
      "metadata": {
        "colab": {
          "background_save": true
        },
        "id": "LdbSVxhaNPrX",
        "outputId": "2d914148-0641-42b2-dc75-b81f05a00026"
      },
      "source": [
        "RF=RandomForestClassifier(n_estimators=200, max_depth=7 ,random_state=42,n_jobs=-1, class_weight='balanced')\n",
        "RF.fit(X_train,y_train)\n",
        "CC = CalibratedClassifierCV(RF, method=\"sigmoid\")\n",
        "CC.fit(X_train,y_train)\n",
        "\n",
        "print(\" Train Data : \")\n",
        "print(\"#\"*100)\n",
        "predict_y = CC.predict_proba(X_train)\n",
        "print ('log loss for train data',(log_loss(y_train, predict_y, labels=RF.classes_, eps=1e-15)))\n",
        "print(\" Train AUC Score RF Model : \", roc_auc_score(y_train,predict_y[:,1]))\n",
        "predict_y = [1 if y>0.5 else 0 for y in predict_y[:, 1]] #np.argmax(predict_y, axis=1)\n",
        "print(\" Train F1 - Score LR Model : \", f1_score(y_train,predict_y))\n",
        "plot_confusion_matrix(y_train, predict_y)\n",
        "\n",
        "print(\" CV Data : \")\n",
        "print(\"#\"*100)\n",
        "predict_y = CC.predict_proba(X_cv)\n",
        "print ('log loss for cv data',(log_loss(y_cv, predict_y, labels=RF.classes_, eps=1e-15)))\n",
        "print(\" CV AUC Score RF Model : \", roc_auc_score(y_cv,predict_y[:,1]))\n",
        "predict_y = [1 if y>0.5 else 0 for y in predict_y[:, 1]] #np.argmax(predict_y, axis=1)\n",
        "print(\" CV F1 - Score LR Model : \", f1_score(y_cv,predict_y))\n",
        "plot_confusion_matrix(y_cv, predict_y)\n",
        "\n",
        "# print(\" Train Data : \")\n",
        "# print(\"#\"*100)\n",
        "# predict_y = CC.predict_proba(X_train)\n",
        "# print ('log loss for train data',(log_loss(y_train, predict_y, labels=CC.classes_, eps=1e-15)))\n",
        "# predict_y = [1 if y>0.5 else 0 for y in predict_y[:, 1]] #np.argmax(predict_y, axis=1)\n",
        "# print(\" Test AUC Score RF Model : \", roc_auc_score(y_train,predict_y))\n",
        "# print(\" Test F1 - Score RF Model : \", f1_score(y_train,predict_y))\n",
        "# plot_confusion_matrix(y_train, predict_y)\n",
        "\n",
        "# print(\" CV Data : \")\n",
        "# print(\"#\"*100)\n",
        "# predict_y = CC.predict_proba(X_cv)\n",
        "# print ('log loss for cv data',(log_loss(y_cv, predict_y, labels=CC.classes_, eps=1e-15)))\n",
        "# predict_y = [1 if y>0.5 else 0 for y in predict_y[:, 1]] #np.argmax(predict_y, axis=1)\n",
        "# print(\" Test AUC Score RF Model : \", roc_auc_score(y_cv,predict_y))\n",
        "# print(\" Test F1 - Score RF Model : \", f1_score(y_cv,predict_y))\n",
        "# plot_confusion_matrix(y_cv, predict_y)\n",
        "\n",
        "# print(\" Test Data : \")\n",
        "# print(\"#\"*100)\n",
        "# predict_y = CC.predict_proba(X_test)\n",
        "# print ('log loss for test data',(log_loss(y_test, predict_y, labels=CC.classes_, eps=1e-15)))\n",
        "# predict_y =np.argmax(predict_y, axis=1)\n",
        "# print(\" Test AUC Score RF Model : \", roc_auc_score(y_test,predict_y))\n",
        "# print(\" Test F1 - Score RF Model : \", f1_score(y_test,predict_y))\n",
        "# plot_confusion_matrix(y_test, predict_y)\n"
      ],
      "execution_count": null,
      "outputs": [
        {
          "name": "stdout",
          "output_type": "stream",
          "text": [
            " Train Data : \n",
            "####################################################################################################\n",
            "log loss for train data 0.23945543884676634\n",
            " Train AUC Score RF Model :  0.7898883907336958\n",
            " Train F1 - Score LR Model :  0.004657138268829291\n"
          ]
        },
        {
          "data": {
            "image/png": "[encoded data removed]",
            "text/plain": [
              "<Figure size 1440x288 with 6 Axes>"
            ]
          },
          "metadata": {},
          "output_type": "display_data"
        },
        {
          "name": "stdout",
          "output_type": "stream",
          "text": [
            " CV Data : \n",
            "####################################################################################################\n",
            "log loss for cv data 0.2448304345248002\n",
            " CV AUC Score RF Model :  0.7688196590110753\n",
            " CV F1 - Score LR Model :  0.002814070351758794\n"
          ]
        },
        {
          "data": {
            "image/png": "[encoded data removed]",
            "text/plain": [
              "<Figure size 1440x288 with 6 Axes>"
            ]
          },
          "metadata": {},
          "output_type": "display_data"
        }
      ]
    },
    {
      "cell_type": "code",
      "metadata": {
        "colab": {
          "base_uri": "https://localhost:8080/",
          "height": 238
        },
        "id": "bFxuzrK_94jH",
        "outputId": "ecc5519d-6ceb-4845-f9f5-b747dd946645"
      },
      "source": [
        "print(\" Test Data : \")\n",
        "print(\"#\"*100)\n",
        "predict_y = CC.predict_proba(X_test)\n",
        "predict_y = predict_y[:, 1] #np.argmax(predict_y, axis=1)\n",
        "# initialise data of lists.\n",
        "data = {'SK_ID_CURR':SK_ID_CURR_test.to_list(),\n",
        "        'TARGET':predict_y}\n",
        " \n",
        "# Create DataFrame\n",
        "df = pd.DataFrame(data)\n",
        "df.to_csv('/content/drive/MyDrive/data/Self-Case-Study-1/RF_Submission.csv', index=False)\n",
        "df.head()"
      ],
      "execution_count": null,
      "outputs": [
        {
          "name": "stdout",
          "output_type": "stream",
          "text": [
            " Test Data : \n",
            "####################################################################################################\n"
          ]
        },
        {
          "data": {
            "text/html": [
              "<div>\n",
              "<style scoped>\n",
              "    .dataframe tbody tr th:only-of-type {\n",
              "        vertical-align: middle;\n",
              "    }\n",
              "\n",
              "    .dataframe tbody tr th {\n",
              "        vertical-align: top;\n",
              "    }\n",
              "\n",
              "    .dataframe thead th {\n",
              "        text-align: right;\n",
              "    }\n",
              "</style>\n",
              "<table border=\"1\" class=\"dataframe\">\n",
              "  <thead>\n",
              "    <tr style=\"text-align: right;\">\n",
              "      <th></th>\n",
              "      <th>SK_ID_CURR</th>\n",
              "      <th>TARGET</th>\n",
              "    </tr>\n",
              "  </thead>\n",
              "  <tbody>\n",
              "    <tr>\n",
              "      <th>0</th>\n",
              "      <td>100001</td>\n",
              "      <td>0.058824</td>\n",
              "    </tr>\n",
              "    <tr>\n",
              "      <th>1</th>\n",
              "      <td>100005</td>\n",
              "      <td>0.260660</td>\n",
              "    </tr>\n",
              "    <tr>\n",
              "      <th>2</th>\n",
              "      <td>100013</td>\n",
              "      <td>0.035649</td>\n",
              "    </tr>\n",
              "    <tr>\n",
              "      <th>3</th>\n",
              "      <td>100028</td>\n",
              "      <td>0.035388</td>\n",
              "    </tr>\n",
              "    <tr>\n",
              "      <th>4</th>\n",
              "      <td>100038</td>\n",
              "      <td>0.205848</td>\n",
              "    </tr>\n",
              "  </tbody>\n",
              "</table>\n",
              "</div>"
            ],
            "text/plain": [
              "   SK_ID_CURR    TARGET\n",
              "0      100001  0.058824\n",
              "1      100005  0.260660\n",
              "2      100013  0.035649\n",
              "3      100028  0.035388\n",
              "4      100038  0.205848"
            ]
          },
          "execution_count": 10,
          "metadata": {},
          "output_type": "execute_result"
        }
      ]
    },
    {
      "cell_type": "markdown",
      "metadata": {
        "id": "5p8PbzUUc_Rh"
      },
      "source": [
        "# **XGBClassifier**"
      ]
    },
    {
      "cell_type": "code",
      "metadata": {
        "colab": {
          "base_uri": "https://localhost:8080/"
        },
        "id": "PZQmI08Mc9hd",
        "outputId": "3e9f844b-adab-493f-9019-118cd2acdafc"
      },
      "source": [
        "x_cfl=XGBClassifier()\n",
        "\n",
        "prams={\n",
        "    'learning_rate':[0.01,0.03,0.05,0.1,0.15,0.2],\n",
        "     'n_estimators':[10,50,100,200],\n",
        "     'max_depth':[3,5,10],\n",
        "    'colsample_bytree':[0.1,0.3,0.5,1],\n",
        "    'subsample':[0.1,0.3,0.5,1]\n",
        "}\n",
        "random_cfl=RandomizedSearchCV(x_cfl,param_distributions=prams,verbose=10,n_jobs=-1,)\n",
        "random_cfl.fit(X_train,y_train)"
      ],
      "execution_count": null,
      "outputs": [
        {
          "name": "stdout",
          "output_type": "stream",
          "text": [
            "Fitting 5 folds for each of 10 candidates, totalling 50 fits\n"
          ]
        },
        {
          "name": "stderr",
          "output_type": "stream",
          "text": [
            "[Parallel(n_jobs=-1)]: Using backend LokyBackend with 2 concurrent workers.\n",
            "[Parallel(n_jobs=-1)]: Done   1 tasks      | elapsed:  9.7min\n",
            "[Parallel(n_jobs=-1)]: Done   4 tasks      | elapsed: 19.4min\n",
            "[Parallel(n_jobs=-1)]: Done   9 tasks      | elapsed: 27.6min\n",
            "[Parallel(n_jobs=-1)]: Done  14 tasks      | elapsed: 35.7min\n",
            "[Parallel(n_jobs=-1)]: Done  21 tasks      | elapsed: 122.8min\n",
            "[Parallel(n_jobs=-1)]: Done  28 tasks      | elapsed: 177.3min\n",
            "[Parallel(n_jobs=-1)]: Done  37 tasks      | elapsed: 237.5min\n",
            "[Parallel(n_jobs=-1)]: Done  46 tasks      | elapsed: 254.4min\n",
            "[Parallel(n_jobs=-1)]: Done  50 out of  50 | elapsed: 255.4min finished\n"
          ]
        },
        {
          "data": {
            "text/plain": [
              "RandomizedSearchCV(cv=None, error_score=nan,\n",
              "                   estimator=XGBClassifier(base_score=0.5, booster='gbtree',\n",
              "                                           colsample_bylevel=1,\n",
              "                                           colsample_bynode=1,\n",
              "                                           colsample_bytree=1, gamma=0,\n",
              "                                           learning_rate=0.1, max_delta_step=0,\n",
              "                                           max_depth=3, min_child_weight=1,\n",
              "                                           missing=None, n_estimators=100,\n",
              "                                           n_jobs=1, nthread=None,\n",
              "                                           objective='binary:logistic',\n",
              "                                           random_state=0, reg_alpha=0,\n",
              "                                           reg_lambda=1...\n",
              "                                           seed=None, silent=None, subsample=1,\n",
              "                                           verbosity=1),\n",
              "                   iid='deprecated', n_iter=10, n_jobs=-1,\n",
              "                   param_distributions={'colsample_bytree': [0.1, 0.3, 0.5, 1],\n",
              "                                        'learning_rate': [0.01, 0.03, 0.05, 0.1,\n",
              "                                                          0.15, 0.2],\n",
              "                                        'max_depth': [3, 5, 10],\n",
              "                                        'n_estimators': [10, 50, 100, 200],\n",
              "                                        'subsample': [0.1, 0.3, 0.5, 1]},\n",
              "                   pre_dispatch='2*n_jobs', random_state=None, refit=True,\n",
              "                   return_train_score=False, scoring=None, verbose=10)"
            ]
          },
          "execution_count": 10,
          "metadata": {
            "tags": []
          },
          "output_type": "execute_result"
        }
      ]
    },
    {
      "cell_type": "code",
      "metadata": {
        "colab": {
          "base_uri": "https://localhost:8080/"
        },
        "id": "4ykp8rh1heGf",
        "outputId": "1acad2fa-e067-4b49-f95c-c7cc3ddd50a7"
      },
      "source": [
        "print (random_cfl.best_params_)"
      ],
      "execution_count": null,
      "outputs": [
        {
          "name": "stdout",
          "output_type": "stream",
          "text": [
            "{'subsample': 1, 'n_estimators': 200, 'max_depth': 10, 'learning_rate': 0.2, 'colsample_bytree': 0.5}\n"
          ]
        }
      ]
    },
    {
      "cell_type": "code",
      "metadata": {
        "colab": {
          "base_uri": "https://localhost:8080/",
          "height": 743
        },
        "id": "4SnMBZe5rKQM",
        "outputId": "f9c829f4-dd59-4feb-f4ad-853708dd6c32"
      },
      "source": [
        "x_cfl=XGBClassifier(n_estimators=200, subsample=1, max_depth=10, learning_rate=0.2, colsample_bytree=0.5)\n",
        "x_cfl.fit(X_train,y_train)\n",
        "c_cfl=CalibratedClassifierCV(x_cfl,method='sigmoid')\n",
        "c_cfl.fit(X_train,y_train)\n",
        "\n",
        "print(\" Train Data : \")\n",
        "print(\"#\"*100)\n",
        "predict_y = c_cfl.predict_proba(X_train)\n",
        "print ('train loss',log_loss(y_train, predict_y))\n",
        "predict_y =np.argmax(predict_y, axis=1)\n",
        "print(\" Train AUC Score XGBoost Model : \", roc_auc_score(y_train,predict_y))\n",
        "print(\" Train F1 - Score XGBoost Model : \", f1_score(y_train,predict_y))\n",
        "plot_confusion_matrix(y_train, predict_y)\n",
        "\n",
        "print(\" CV Data : \")\n",
        "print(\"#\"*100)\n",
        "predict_y = c_cfl.predict_proba(X_cv)\n",
        "print ('cv loss',log_loss(y_cv, predict_y))\n",
        "predict_y =np.argmax(predict_y, axis=1)\n",
        "print(\" CV AUC Score XGBoost Model : \", roc_auc_score(y_cv,predict_y))\n",
        "print(\" CV F1 - Score XGBoost Model : \", f1_score(y_cv,predict_y))\n",
        "plot_confusion_matrix(y_cv, predict_y)\n",
        "\n",
        "# print(\" Test Data : \")\n",
        "# print(\"#\"*100)\n",
        "# predict_y = c_cfl.predict_proba(X_test)\n",
        "# print ('test loss',log_loss(y_test, predict_y))\n",
        "# predict_y =np.argmax(predict_y, axis=1)\n",
        "# print(\" Test AUC Score XGBoost Model : \", roc_auc_score(y_test,predict_y))\n",
        "# print(\" Test F1 - Score XGBoost Model : \", f1_score(y_test,predict_y))\n",
        "# plot_confusion_matrix(y_test, predict_y)"
      ],
      "execution_count": null,
      "outputs": [
        {
          "name": "stdout",
          "output_type": "stream",
          "text": [
            " Train Data : \n",
            "####################################################################################################\n",
            "train loss 0.024731406071820776\n",
            " Train AUC Score XGBoost Model :  0.9985717686613699\n",
            " Train F1 - Score XGBoost Model :  0.9985695627837552\n"
          ]
        },
        {
          "data": {
            "image/png": "[encoded data removed]",
            "text/plain": [
              "<Figure size 1440x288 with 6 Axes>"
            ]
          },
          "metadata": {
            "tags": []
          },
          "output_type": "display_data"
        },
        {
          "name": "stdout",
          "output_type": "stream",
          "text": [
            " CV Data : \n",
            "####################################################################################################\n",
            "cv loss 0.33719180788071207\n",
            " CV AUC Score XGBoost Model :  0.5682014524039068\n",
            " CV F1 - Score XGBoost Model :  0.22252822913797848\n"
          ]
        },
        {
          "data": {
            "image/png": "[encoded data removed]",
            "text/plain": [
              "<Figure size 1440x288 with 6 Axes>"
            ]
          },
          "metadata": {
            "tags": []
          },
          "output_type": "display_data"
        }
      ]
    },
    {
      "cell_type": "code",
      "metadata": {
        "colab": {
          "base_uri": "https://localhost:8080/",
          "height": 242
        },
        "id": "5PlH_cP1cBOX",
        "outputId": "a7627f44-7654-4194-f0f3-4550396f80c5"
      },
      "source": [
        "print(\" Test Data : \")\n",
        "print(\"#\"*100)\n",
        "predict_y = c_cfl.predict_proba(X_test)\n",
        "predict_y =np.argmax(predict_y, axis=1)\n",
        "# initialise data of lists.\n",
        "data = {'SK_ID_CURR':SK_ID_CURR_test.to_list(),\n",
        "        'TARGET':predict_y}\n",
        " \n",
        "# Create DataFrame\n",
        "df = pd.DataFrame(data)\n",
        "df.to_csv('/content/drive/MyDrive/data/Self-Case-Study-1/XGB_Submission.csv', index=False)\n",
        "df.head()"
      ],
      "execution_count": null,
      "outputs": [
        {
          "name": "stdout",
          "output_type": "stream",
          "text": [
            " Test Data : \n",
            "####################################################################################################\n"
          ]
        },
        {
          "data": {
            "text/html": [
              "<div>\n",
              "<style scoped>\n",
              "    .dataframe tbody tr th:only-of-type {\n",
              "        vertical-align: middle;\n",
              "    }\n",
              "\n",
              "    .dataframe tbody tr th {\n",
              "        vertical-align: top;\n",
              "    }\n",
              "\n",
              "    .dataframe thead th {\n",
              "        text-align: right;\n",
              "    }\n",
              "</style>\n",
              "<table border=\"1\" class=\"dataframe\">\n",
              "  <thead>\n",
              "    <tr style=\"text-align: right;\">\n",
              "      <th></th>\n",
              "      <th>SK_ID_CURR</th>\n",
              "      <th>TARGET</th>\n",
              "    </tr>\n",
              "  </thead>\n",
              "  <tbody>\n",
              "    <tr>\n",
              "      <th>0</th>\n",
              "      <td>100001</td>\n",
              "      <td>0</td>\n",
              "    </tr>\n",
              "    <tr>\n",
              "      <th>1</th>\n",
              "      <td>100005</td>\n",
              "      <td>0</td>\n",
              "    </tr>\n",
              "    <tr>\n",
              "      <th>2</th>\n",
              "      <td>100013</td>\n",
              "      <td>0</td>\n",
              "    </tr>\n",
              "    <tr>\n",
              "      <th>3</th>\n",
              "      <td>100028</td>\n",
              "      <td>0</td>\n",
              "    </tr>\n",
              "    <tr>\n",
              "      <th>4</th>\n",
              "      <td>100038</td>\n",
              "      <td>0</td>\n",
              "    </tr>\n",
              "  </tbody>\n",
              "</table>\n",
              "</div>"
            ],
            "text/plain": [
              "   SK_ID_CURR  TARGET\n",
              "0      100001       0\n",
              "1      100005       0\n",
              "2      100013       0\n",
              "3      100028       0\n",
              "4      100038       0"
            ]
          },
          "execution_count": 9,
          "metadata": {
            "tags": []
          },
          "output_type": "execute_result"
        }
      ]
    },
    {
      "cell_type": "markdown",
      "metadata": {
        "id": "eONfLkA_7yW7"
      },
      "source": [
        "# **LGBM**"
      ]
    },
    {
      "cell_type": "code",
      "metadata": {
        "id": "-C5YGXjZ17FM"
      },
      "source": [
        "\n",
        "import pickle\n",
        "import random\n",
        "import numpy as np\n",
        "from sklearn.metrics import roc_auc_score\n",
        "from sklearn.metrics import f1_score\n",
        "\n",
        "#you can load from disk\n",
        "X_train_with_encoded_feat_df, y_train = pickle.load(open(\"/content/drive/MyDrive/data/Self-Case-Study-1/train_data.pkl\", 'rb')) \n",
        "X_cv_with_encoded_feat_df, y_cv = pickle.load(open(\"/content/drive/MyDrive/data/Self-Case-Study-1/cv_data.pkl\", 'rb'))\n",
        "X_test_with_encoded_feat_df, SK_ID_CURR_test = pickle.load(open(\"/content/drive/MyDrive/data/Self-Case-Study-1/test_data.pkl\", 'rb'))\n",
        "\n",
        "X_train_with_encoded_feat_df['TARGET'] = y_train.to_list()\n",
        "X_cv_with_encoded_feat_df['TARGET'] = y_cv.to_list()\n",
        "\n",
        "# pd.concat([X_train_with_encoded_feat_df, X_cv_with_encoded_feat_df], ignore_index=True)\n",
        "\n",
        "\n",
        "\n",
        "# Train\n",
        "X_train_with_encoded_feat_df = pd.concat([X_train_with_encoded_feat_df, X_cv_with_encoded_feat_df], ignore_index=True)\n",
        "# X_train_with_encoded_feat_df = X_train_with_encoded_feat_df\n",
        "y_train = X_train_with_encoded_feat_df['TARGET']\n",
        "X_train = X_train_with_encoded_feat_df.drop(columns=['TARGET'])\n",
        "\n",
        "# CV\n",
        "# X_cv_with_encoded_feat_df = X_cv_with_encoded_feat_df.sample(frac =.25)\n",
        "# y_cv = X_cv_with_encoded_feat_df['TARGET']\n",
        "# X_cv = X_cv_with_encoded_feat_df.drop(columns=['TARGET'])\n",
        "\n",
        "# Test\n",
        "# X_test_with_encoded_feat_df = X_test_with_encoded_feat_df.sample(frac =.25)\n",
        "# y_test = X_test_with_encoded_feat_df['TARGET']\n",
        "# X_test = X_test_with_encoded_feat_df.drop(columns=['TARGET'])\n",
        "X_test = X_test_with_encoded_feat_df\n",
        "\n"
      ],
      "execution_count": null,
      "outputs": []
    },
    {
      "cell_type": "code",
      "metadata": {
        "colab": {
          "base_uri": "https://localhost:8080/"
        },
        "id": "I988ymhx2ykZ",
        "outputId": "b681aa60-b0bd-4bf2-e16a-f0568436ddf4"
      },
      "source": [
        "from lightgbm import LGBMClassifier\n",
        "from sklearn.metrics import roc_auc_score, roc_curve\n",
        "from sklearn.model_selection import KFold, StratifiedKFold\n",
        "import pandas as pd\n",
        "import numpy as np\n",
        "import gc\n",
        "\n",
        "# folds = KFold(n_splits=2, shuffle=True, random_state=1001)\n",
        "folds = StratifiedKFold(n_splits= 5, shuffle=True, random_state=1001)\n",
        "\n",
        "# Create arrays and dataframes to store results\n",
        "oof_preds = np.zeros(X_train.shape[0])\n",
        "sub_preds = np.zeros(X_test.shape[0])\n",
        "feature_importance_df = pd.DataFrame()\n",
        "\n",
        "# Iterate through each fold\n",
        "for train_indices, valid_indices in folds.split(X_train,y_train):\n",
        "        \n",
        "    # Training data for the fold\n",
        "    train_features, train_labels = X_train.iloc[train_indices], y_train.iloc[train_indices]\n",
        "    # Validation data for the fold\n",
        "    valid_features, valid_labels = X_train.iloc[valid_indices], y_train.iloc[valid_indices]\n",
        "        \n",
        "    # Create the model\n",
        "    model = LGBMClassifier(\n",
        "            nthread=4,\n",
        "            n_estimators=10000,\n",
        "            learning_rate=0.02,\n",
        "            num_leaves=34,\n",
        "            colsample_bytree=0.9497036,\n",
        "            subsample=0.8715623,\n",
        "            max_depth=8,\n",
        "            reg_alpha=0.041545473,\n",
        "            reg_lambda=0.0735294,\n",
        "            min_split_gain=0.0222415,\n",
        "            min_child_weight=39.3259775,\n",
        "            silent=-1,\n",
        "            verbose=-1, )\n",
        "    \n",
        "        \n",
        "    # Train the model\n",
        "    model.fit(train_features, train_labels, eval_metric = 'auc',\n",
        "                eval_set = [(valid_features, valid_labels), (train_features, train_labels)],\n",
        "                eval_names = ['valid', 'train'],\n",
        "                early_stopping_rounds = 100, verbose = 100)\n",
        "    \n",
        "    oof_preds[valid_indices] = model.predict_proba(valid_features, num_iteration=model.best_iteration_)[:, 1]\n",
        "    sub_preds += model.predict_proba(X_test, num_iteration=model.best_iteration_)[:, 1] / folds.n_splits\n",
        "\n",
        "    # fold_importance_df = pd.DataFrame()\n",
        "    # fold_importance_df[\"feature\"] = feats\n",
        "    # fold_importance_df[\"importance\"] = model.feature_importances_\n",
        "    # feature_importance_df = pd.concat([feature_importance_df, fold_importance_df], axis=0)\n",
        "    # print('Fold %2d AUC : %.6f' % (n_fold + 1, roc_auc_score(valid_labels, oof_preds[valid_indices])))\n",
        "    del model, train_features, train_labels, valid_features, valid_labels\n",
        "    gc.collect()\n",
        "\n",
        "print('Full AUC score %.6f' % roc_auc_score(y_train, oof_preds))"
      ],
      "execution_count": null,
      "outputs": [
        {
          "name": "stdout",
          "output_type": "stream",
          "text": [
            "Training until validation scores don't improve for 100 rounds.\n",
            "[100]\ttrain's binary_logloss: 0.245622\ttrain's auc: 0.773119\tvalid's binary_logloss: 0.249764\tvalid's auc: 0.755525\n",
            "[200]\ttrain's binary_logloss: 0.235826\ttrain's auc: 0.796901\tvalid's binary_logloss: 0.24333\tvalid's auc: 0.770907\n",
            "[300]\ttrain's binary_logloss: 0.229803\ttrain's auc: 0.811683\tvalid's binary_logloss: 0.240672\tvalid's auc: 0.777196\n",
            "[400]\ttrain's binary_logloss: 0.22515\ttrain's auc: 0.823279\tvalid's binary_logloss: 0.239256\tvalid's auc: 0.780585\n",
            "[500]\ttrain's binary_logloss: 0.221252\ttrain's auc: 0.833141\tvalid's binary_logloss: 0.238585\tvalid's auc: 0.78221\n",
            "[600]\ttrain's binary_logloss: 0.217735\ttrain's auc: 0.842071\tvalid's binary_logloss: 0.23826\tvalid's auc: 0.782904\n",
            "[700]\ttrain's binary_logloss: 0.214526\ttrain's auc: 0.850001\tvalid's binary_logloss: 0.237967\tvalid's auc: 0.783649\n",
            "[800]\ttrain's binary_logloss: 0.211562\ttrain's auc: 0.857339\tvalid's binary_logloss: 0.23781\tvalid's auc: 0.784082\n",
            "[900]\ttrain's binary_logloss: 0.208698\ttrain's auc: 0.864215\tvalid's binary_logloss: 0.237706\tvalid's auc: 0.784235\n",
            "Early stopping, best iteration is:\n",
            "[881]\ttrain's binary_logloss: 0.209244\ttrain's auc: 0.862927\tvalid's binary_logloss: 0.237712\tvalid's auc: 0.784276\n",
            "Training until validation scores don't improve for 100 rounds.\n",
            "[100]\ttrain's binary_logloss: 0.245669\ttrain's auc: 0.773113\tvalid's binary_logloss: 0.249578\tvalid's auc: 0.757287\n",
            "[200]\ttrain's binary_logloss: 0.235798\ttrain's auc: 0.797029\tvalid's binary_logloss: 0.243275\tvalid's auc: 0.772181\n",
            "[300]\ttrain's binary_logloss: 0.229778\ttrain's auc: 0.811464\tvalid's binary_logloss: 0.240819\tvalid's auc: 0.777922\n",
            "[400]\ttrain's binary_logloss: 0.225128\ttrain's auc: 0.822883\tvalid's binary_logloss: 0.239494\tvalid's auc: 0.781327\n",
            "[500]\ttrain's binary_logloss: 0.221166\ttrain's auc: 0.832828\tvalid's binary_logloss: 0.238699\tvalid's auc: 0.783621\n",
            "[600]\ttrain's binary_logloss: 0.217623\ttrain's auc: 0.841772\tvalid's binary_logloss: 0.238167\tvalid's auc: 0.785115\n",
            "[700]\ttrain's binary_logloss: 0.214439\ttrain's auc: 0.849792\tvalid's binary_logloss: 0.237809\tvalid's auc: 0.786163\n",
            "[800]\ttrain's binary_logloss: 0.21144\ttrain's auc: 0.857163\tvalid's binary_logloss: 0.237565\tvalid's auc: 0.786836\n",
            "[900]\ttrain's binary_logloss: 0.208637\ttrain's auc: 0.86394\tvalid's binary_logloss: 0.237422\tvalid's auc: 0.787173\n",
            "[1000]\ttrain's binary_logloss: 0.205845\ttrain's auc: 0.87051\tvalid's binary_logloss: 0.237331\tvalid's auc: 0.787456\n",
            "[1100]\ttrain's binary_logloss: 0.203169\ttrain's auc: 0.876665\tvalid's binary_logloss: 0.237268\tvalid's auc: 0.78761\n",
            "[1200]\ttrain's binary_logloss: 0.200598\ttrain's auc: 0.882457\tvalid's binary_logloss: 0.237217\tvalid's auc: 0.787708\n",
            "[1300]\ttrain's binary_logloss: 0.197969\ttrain's auc: 0.88838\tvalid's binary_logloss: 0.237158\tvalid's auc: 0.787818\n",
            "[1400]\ttrain's binary_logloss: 0.195391\ttrain's auc: 0.893987\tvalid's binary_logloss: 0.237145\tvalid's auc: 0.787816\n",
            "Early stopping, best iteration is:\n",
            "[1361]\ttrain's binary_logloss: 0.19635\ttrain's auc: 0.891916\tvalid's binary_logloss: 0.237126\tvalid's auc: 0.787896\n",
            "Training until validation scores don't improve for 100 rounds.\n",
            "[100]\ttrain's binary_logloss: 0.24558\ttrain's auc: 0.773273\tvalid's binary_logloss: 0.249516\tvalid's auc: 0.757722\n",
            "[200]\ttrain's binary_logloss: 0.235658\ttrain's auc: 0.797337\tvalid's binary_logloss: 0.243171\tvalid's auc: 0.772337\n",
            "[300]\ttrain's binary_logloss: 0.229668\ttrain's auc: 0.811702\tvalid's binary_logloss: 0.240562\tvalid's auc: 0.778159\n",
            "[400]\ttrain's binary_logloss: 0.224963\ttrain's auc: 0.823294\tvalid's binary_logloss: 0.239122\tvalid's auc: 0.781821\n",
            "[500]\ttrain's binary_logloss: 0.221031\ttrain's auc: 0.833123\tvalid's binary_logloss: 0.238379\tvalid's auc: 0.783719\n",
            "[600]\ttrain's binary_logloss: 0.217534\ttrain's auc: 0.841907\tvalid's binary_logloss: 0.237849\tvalid's auc: 0.785005\n",
            "[700]\ttrain's binary_logloss: 0.214421\ttrain's auc: 0.849657\tvalid's binary_logloss: 0.23755\tvalid's auc: 0.785692\n",
            "[800]\ttrain's binary_logloss: 0.211482\ttrain's auc: 0.856911\tvalid's binary_logloss: 0.237345\tvalid's auc: 0.786018\n",
            "[900]\ttrain's binary_logloss: 0.208679\ttrain's auc: 0.863665\tvalid's binary_logloss: 0.237185\tvalid's auc: 0.78633\n",
            "[1000]\ttrain's binary_logloss: 0.205925\ttrain's auc: 0.870197\tvalid's binary_logloss: 0.237088\tvalid's auc: 0.786529\n",
            "[1100]\ttrain's binary_logloss: 0.203202\ttrain's auc: 0.876544\tvalid's binary_logloss: 0.236986\tvalid's auc: 0.786759\n",
            "[1200]\ttrain's binary_logloss: 0.200553\ttrain's auc: 0.882528\tvalid's binary_logloss: 0.236918\tvalid's auc: 0.786872\n",
            "[1300]\ttrain's binary_logloss: 0.198032\ttrain's auc: 0.888133\tvalid's binary_logloss: 0.236798\tvalid's auc: 0.787077\n",
            "[1400]\ttrain's binary_logloss: 0.19556\ttrain's auc: 0.893484\tvalid's binary_logloss: 0.23684\tvalid's auc: 0.786865\n",
            "Early stopping, best iteration is:\n",
            "[1303]\ttrain's binary_logloss: 0.197959\ttrain's auc: 0.888303\tvalid's binary_logloss: 0.236791\tvalid's auc: 0.787095\n",
            "Training until validation scores don't improve for 100 rounds.\n",
            "[100]\ttrain's binary_logloss: 0.245252\ttrain's auc: 0.774795\tvalid's binary_logloss: 0.250327\tvalid's auc: 0.752749\n",
            "[200]\ttrain's binary_logloss: 0.235289\ttrain's auc: 0.79844\tvalid's binary_logloss: 0.244416\tvalid's auc: 0.767373\n",
            "[300]\ttrain's binary_logloss: 0.229174\ttrain's auc: 0.81302\tvalid's binary_logloss: 0.24208\tvalid's auc: 0.773354\n",
            "[400]\ttrain's binary_logloss: 0.224437\ttrain's auc: 0.824624\tvalid's binary_logloss: 0.240897\tvalid's auc: 0.776532\n",
            "[500]\ttrain's binary_logloss: 0.220477\ttrain's auc: 0.834341\tvalid's binary_logloss: 0.240149\tvalid's auc: 0.778655\n",
            "[600]\ttrain's binary_logloss: 0.21705\ttrain's auc: 0.842696\tvalid's binary_logloss: 0.239856\tvalid's auc: 0.779497\n",
            "[700]\ttrain's binary_logloss: 0.213952\ttrain's auc: 0.850291\tvalid's binary_logloss: 0.239707\tvalid's auc: 0.779928\n",
            "[800]\ttrain's binary_logloss: 0.211073\ttrain's auc: 0.857283\tvalid's binary_logloss: 0.239612\tvalid's auc: 0.780109\n",
            "Early stopping, best iteration is:\n",
            "[756]\ttrain's binary_logloss: 0.212341\ttrain's auc: 0.854165\tvalid's binary_logloss: 0.239603\tvalid's auc: 0.780223\n",
            "Training until validation scores don't improve for 100 rounds.\n",
            "[100]\ttrain's binary_logloss: 0.245466\ttrain's auc: 0.774408\tvalid's binary_logloss: 0.249464\tvalid's auc: 0.756195\n",
            "[200]\ttrain's binary_logloss: 0.235601\ttrain's auc: 0.797716\tvalid's binary_logloss: 0.243273\tvalid's auc: 0.770613\n",
            "[300]\ttrain's binary_logloss: 0.229591\ttrain's auc: 0.811968\tvalid's binary_logloss: 0.240879\tvalid's auc: 0.776388\n",
            "[400]\ttrain's binary_logloss: 0.224937\ttrain's auc: 0.823394\tvalid's binary_logloss: 0.239641\tvalid's auc: 0.779524\n",
            "[500]\ttrain's binary_logloss: 0.221062\ttrain's auc: 0.833053\tvalid's binary_logloss: 0.238799\tvalid's auc: 0.781924\n",
            "[600]\ttrain's binary_logloss: 0.21757\ttrain's auc: 0.841705\tvalid's binary_logloss: 0.238303\tvalid's auc: 0.783331\n",
            "[700]\ttrain's binary_logloss: 0.214348\ttrain's auc: 0.849643\tvalid's binary_logloss: 0.238024\tvalid's auc: 0.783998\n",
            "[800]\ttrain's binary_logloss: 0.211407\ttrain's auc: 0.856843\tvalid's binary_logloss: 0.237812\tvalid's auc: 0.784532\n",
            "[900]\ttrain's binary_logloss: 0.208555\ttrain's auc: 0.863649\tvalid's binary_logloss: 0.237713\tvalid's auc: 0.784703\n",
            "[1000]\ttrain's binary_logloss: 0.205743\ttrain's auc: 0.870407\tvalid's binary_logloss: 0.237598\tvalid's auc: 0.785021\n",
            "[1100]\ttrain's binary_logloss: 0.203054\ttrain's auc: 0.876629\tvalid's binary_logloss: 0.237608\tvalid's auc: 0.784931\n",
            "Early stopping, best iteration is:\n",
            "[1044]\ttrain's binary_logloss: 0.204549\ttrain's auc: 0.873165\tvalid's binary_logloss: 0.237567\tvalid's auc: 0.785096\n",
            "Full AUC score 0.784916\n"
          ]
        }
      ]
    },
    {
      "cell_type": "code",
      "metadata": {
        "colab": {
          "base_uri": "https://localhost:8080/",
          "height": 205
        },
        "id": "x2uivD4G3g64",
        "outputId": "7cf5a14e-965d-409c-c54b-096537325f0b"
      },
      "source": [
        "# test_df['TARGET'] = sub_preds\n",
        "# test_df[['SK_ID_CURR', 'TARGET']].to_csv('submission.csv', index= False)\n",
        "\n",
        "# initialise data of lists.\n",
        "data = {'SK_ID_CURR':SK_ID_CURR_test.to_list(),\n",
        "        'TARGET':sub_preds}\n",
        " \n",
        "# Create DataFrame\n",
        "df = pd.DataFrame(data)\n",
        "df.to_csv('/content/drive/MyDrive/data/Self-Case-Study-1/LGBM_Submission.csv', index=False)\n",
        "df.head()"
      ],
      "execution_count": null,
      "outputs": [
        {
          "data": {
            "text/html": [
              "<div>\n",
              "<style scoped>\n",
              "    .dataframe tbody tr th:only-of-type {\n",
              "        vertical-align: middle;\n",
              "    }\n",
              "\n",
              "    .dataframe tbody tr th {\n",
              "        vertical-align: top;\n",
              "    }\n",
              "\n",
              "    .dataframe thead th {\n",
              "        text-align: right;\n",
              "    }\n",
              "</style>\n",
              "<table border=\"1\" class=\"dataframe\">\n",
              "  <thead>\n",
              "    <tr style=\"text-align: right;\">\n",
              "      <th></th>\n",
              "      <th>SK_ID_CURR</th>\n",
              "      <th>TARGET</th>\n",
              "    </tr>\n",
              "  </thead>\n",
              "  <tbody>\n",
              "    <tr>\n",
              "      <th>0</th>\n",
              "      <td>100001</td>\n",
              "      <td>0.045273</td>\n",
              "    </tr>\n",
              "    <tr>\n",
              "      <th>1</th>\n",
              "      <td>100005</td>\n",
              "      <td>0.140693</td>\n",
              "    </tr>\n",
              "    <tr>\n",
              "      <th>2</th>\n",
              "      <td>100013</td>\n",
              "      <td>0.033949</td>\n",
              "    </tr>\n",
              "    <tr>\n",
              "      <th>3</th>\n",
              "      <td>100028</td>\n",
              "      <td>0.041582</td>\n",
              "    </tr>\n",
              "    <tr>\n",
              "      <th>4</th>\n",
              "      <td>100038</td>\n",
              "      <td>0.151800</td>\n",
              "    </tr>\n",
              "  </tbody>\n",
              "</table>\n",
              "</div>"
            ],
            "text/plain": [
              "   SK_ID_CURR    TARGET\n",
              "0      100001  0.045273\n",
              "1      100005  0.140693\n",
              "2      100013  0.033949\n",
              "3      100028  0.041582\n",
              "4      100038  0.151800"
            ]
          },
          "execution_count": 6,
          "metadata": {
            "tags": []
          },
          "output_type": "execute_result"
        }
      ]
    },
    {
      "cell_type": "markdown",
      "metadata": {
        "id": "uIMjvbn8WkxE"
      },
      "source": [
        "# **Average Prediction of All Models**"
      ]
    },
    {
      "cell_type": "code",
      "metadata": {
        "id": "cpDxfip8S7GJ"
      },
      "source": [
        "\n",
        "df_lgbm = pd.read_csv('/content/drive/MyDrive/data/Self-Case-Study-1/LGBM_Submission.csv')\n",
        "# df_xgb = pd.read_csv('/content/drive/MyDrive/data/Self-Case-Study-1/XGB_Submission.csv')\n",
        "df_rf = pd.read_csv('/content/drive/MyDrive/data/Self-Case-Study-1/RF_Submission.csv')\n",
        "df_lr = pd.read_csv('/content/drive/MyDrive/data/Self-Case-Study-1/LR_Submission.csv')\n",
        "\n"
      ],
      "execution_count": null,
      "outputs": []
    },
    {
      "cell_type": "code",
      "metadata": {
        "colab": {
          "base_uri": "https://localhost:8080/",
          "height": 204
        },
        "id": "_DDWYMxDUKDL",
        "outputId": "01e6113d-b27c-42d2-ad7b-3487bb10f6a4"
      },
      "source": [
        "# initialise data of lists.\n",
        "data = {'SK_ID_CURR':df_lgbm['SK_ID_CURR'].to_list(),\n",
        "        'TARGET_LGBM' : df_lgbm['TARGET'],\n",
        "        # 'TARGET_XGB' : df_xgb['TARGET'],\n",
        "        'TARGET_RF' : df_rf['TARGET'],\n",
        "        'TARGET_LR' : df_lr['TARGET'],\n",
        "        # 'TARGET': (df_lgbm['TARGET'] + df_xgb['TARGET'] + df_rf['TARGET'] + df_lr['TARGET'])/4.0}\n",
        "        'TARGET': (df_lgbm['TARGET'] + df_rf['TARGET'] + df_lr['TARGET'])/4.0}\n",
        "\n",
        " \n",
        "# Create DataFrame\n",
        "df = pd.DataFrame(data)\n",
        "df[['SK_ID_CURR','TARGET']].to_csv('/content/drive/MyDrive/data/Self-Case-Study-1/Avg_Submission.csv', index=False)\n",
        "df.head()"
      ],
      "execution_count": null,
      "outputs": [
        {
          "output_type": "execute_result",
          "data": {
            "text/html": [
              "<div>\n",
              "<style scoped>\n",
              "    .dataframe tbody tr th:only-of-type {\n",
              "        vertical-align: middle;\n",
              "    }\n",
              "\n",
              "    .dataframe tbody tr th {\n",
              "        vertical-align: top;\n",
              "    }\n",
              "\n",
              "    .dataframe thead th {\n",
              "        text-align: right;\n",
              "    }\n",
              "</style>\n",
              "<table border=\"1\" class=\"dataframe\">\n",
              "  <thead>\n",
              "    <tr style=\"text-align: right;\">\n",
              "      <th></th>\n",
              "      <th>SK_ID_CURR</th>\n",
              "      <th>TARGET_LGBM</th>\n",
              "      <th>TARGET_RF</th>\n",
              "      <th>TARGET_LR</th>\n",
              "      <th>TARGET</th>\n",
              "    </tr>\n",
              "  </thead>\n",
              "  <tbody>\n",
              "    <tr>\n",
              "      <th>0</th>\n",
              "      <td>100001</td>\n",
              "      <td>0.045273</td>\n",
              "      <td>0.058824</td>\n",
              "      <td>0.041319</td>\n",
              "      <td>0.036354</td>\n",
              "    </tr>\n",
              "    <tr>\n",
              "      <th>1</th>\n",
              "      <td>100005</td>\n",
              "      <td>0.140693</td>\n",
              "      <td>0.260660</td>\n",
              "      <td>0.091620</td>\n",
              "      <td>0.123243</td>\n",
              "    </tr>\n",
              "    <tr>\n",
              "      <th>2</th>\n",
              "      <td>100013</td>\n",
              "      <td>0.033949</td>\n",
              "      <td>0.035649</td>\n",
              "      <td>0.029848</td>\n",
              "      <td>0.024862</td>\n",
              "    </tr>\n",
              "    <tr>\n",
              "      <th>3</th>\n",
              "      <td>100028</td>\n",
              "      <td>0.041582</td>\n",
              "      <td>0.035388</td>\n",
              "      <td>0.061850</td>\n",
              "      <td>0.034705</td>\n",
              "    </tr>\n",
              "    <tr>\n",
              "      <th>4</th>\n",
              "      <td>100038</td>\n",
              "      <td>0.151800</td>\n",
              "      <td>0.205848</td>\n",
              "      <td>0.106510</td>\n",
              "      <td>0.116039</td>\n",
              "    </tr>\n",
              "  </tbody>\n",
              "</table>\n",
              "</div>"
            ],
            "text/plain": [
              "   SK_ID_CURR  TARGET_LGBM  TARGET_RF  TARGET_LR    TARGET\n",
              "0      100001     0.045273   0.058824   0.041319  0.036354\n",
              "1      100005     0.140693   0.260660   0.091620  0.123243\n",
              "2      100013     0.033949   0.035649   0.029848  0.024862\n",
              "3      100028     0.041582   0.035388   0.061850  0.034705\n",
              "4      100038     0.151800   0.205848   0.106510  0.116039"
            ]
          },
          "metadata": {},
          "execution_count": 6
        }
      ]
    },
    {
      "cell_type": "markdown",
      "metadata": {
        "id": "UEG9_Bu4e3UB"
      },
      "source": [
        "## **Weighted Average Prediction of All Models**"
      ]
    },
    {
      "cell_type": "code",
      "metadata": {
        "colab": {
          "base_uri": "https://localhost:8080/",
          "height": 204
        },
        "id": "68tUaie10EKR",
        "outputId": "1ac96e57-c2c2-4a10-8030-10feffced350"
      },
      "source": [
        "# initialise data of lists.\n",
        "lgbm_test_auc = 0.78\n",
        "rf_test_auc = 0.74\n",
        "lr_test_auc = 0.72\n",
        "data = {'SK_ID_CURR':df_lgbm['SK_ID_CURR'].to_list(),\n",
        "        'TARGET_LGBM' : df_lgbm['TARGET'],\n",
        "        'TARGET_RF' : df_rf['TARGET'],\n",
        "        'TARGET_LR' : df_lr['TARGET'],\n",
        "        'TARGET': (lgbm_test_auc * df_lgbm['TARGET'] + rf_test_auc * df_rf['TARGET'] + lr_test_auc * df_lr['TARGET'])/(lgbm_test_auc + rf_test_auc + lr_test_auc)}\n",
        " \n",
        "# Create DataFrame\n",
        "df = pd.DataFrame(data)\n",
        "df[['SK_ID_CURR','TARGET']].to_csv('/content/drive/MyDrive/data/Self-Case-Study-1/Weighted_Avg_Submission.csv', index=False)\n",
        "df.head()"
      ],
      "execution_count": null,
      "outputs": [
        {
          "output_type": "execute_result",
          "data": {
            "text/html": [
              "<div>\n",
              "<style scoped>\n",
              "    .dataframe tbody tr th:only-of-type {\n",
              "        vertical-align: middle;\n",
              "    }\n",
              "\n",
              "    .dataframe tbody tr th {\n",
              "        vertical-align: top;\n",
              "    }\n",
              "\n",
              "    .dataframe thead th {\n",
              "        text-align: right;\n",
              "    }\n",
              "</style>\n",
              "<table border=\"1\" class=\"dataframe\">\n",
              "  <thead>\n",
              "    <tr style=\"text-align: right;\">\n",
              "      <th></th>\n",
              "      <th>SK_ID_CURR</th>\n",
              "      <th>TARGET_LGBM</th>\n",
              "      <th>TARGET_RF</th>\n",
              "      <th>TARGET_LR</th>\n",
              "      <th>TARGET</th>\n",
              "    </tr>\n",
              "  </thead>\n",
              "  <tbody>\n",
              "    <tr>\n",
              "      <th>0</th>\n",
              "      <td>100001</td>\n",
              "      <td>0.045273</td>\n",
              "      <td>0.058824</td>\n",
              "      <td>0.041319</td>\n",
              "      <td>0.048479</td>\n",
              "    </tr>\n",
              "    <tr>\n",
              "      <th>1</th>\n",
              "      <td>100005</td>\n",
              "      <td>0.140693</td>\n",
              "      <td>0.260660</td>\n",
              "      <td>0.091620</td>\n",
              "      <td>0.164552</td>\n",
              "    </tr>\n",
              "    <tr>\n",
              "      <th>2</th>\n",
              "      <td>100013</td>\n",
              "      <td>0.033949</td>\n",
              "      <td>0.035649</td>\n",
              "      <td>0.029848</td>\n",
              "      <td>0.033193</td>\n",
              "    </tr>\n",
              "    <tr>\n",
              "      <th>3</th>\n",
              "      <td>100028</td>\n",
              "      <td>0.041582</td>\n",
              "      <td>0.035388</td>\n",
              "      <td>0.061850</td>\n",
              "      <td>0.046050</td>\n",
              "    </tr>\n",
              "    <tr>\n",
              "      <th>4</th>\n",
              "      <td>100038</td>\n",
              "      <td>0.151800</td>\n",
              "      <td>0.205848</td>\n",
              "      <td>0.106510</td>\n",
              "      <td>0.155097</td>\n",
              "    </tr>\n",
              "  </tbody>\n",
              "</table>\n",
              "</div>"
            ],
            "text/plain": [
              "   SK_ID_CURR  TARGET_LGBM  TARGET_RF  TARGET_LR    TARGET\n",
              "0      100001     0.045273   0.058824   0.041319  0.048479\n",
              "1      100005     0.140693   0.260660   0.091620  0.164552\n",
              "2      100013     0.033949   0.035649   0.029848  0.033193\n",
              "3      100028     0.041582   0.035388   0.061850  0.046050\n",
              "4      100038     0.151800   0.205848   0.106510  0.155097"
            ]
          },
          "metadata": {},
          "execution_count": 8
        }
      ]
    },
    {
      "cell_type": "markdown",
      "metadata": {
        "id": "_Rua8BiJDM2n"
      },
      "source": [
        "**MULTI-LAYER PERCEPTRON**"
      ]
    },
    {
      "cell_type": "code",
      "metadata": {
        "id": "OVeBlvRhEgwE"
      },
      "source": [
        "from tensorflow.keras import Sequential\n",
        "from tensorflow.keras.layers import Dense\n",
        "import pandas as pd\n",
        "import numpy as np\n",
        "from sklearn.metrics import accuracy_score,f1_score\n",
        "import tensorflow as tf"
      ],
      "execution_count": 10,
      "outputs": []
    },
    {
      "cell_type": "code",
      "metadata": {
        "colab": {
          "base_uri": "https://localhost:8080/"
        },
        "id": "H92OfEEUDL47",
        "outputId": "bb926408-4ad8-4035-bb1f-0fe317e7eca5"
      },
      "source": [
        "# determine the number of input features\n",
        "n_features = X_train.shape[1]\n",
        "n_features"
      ],
      "execution_count": 11,
      "outputs": [
        {
          "output_type": "execute_result",
          "data": {
            "text/plain": [
              "807"
            ]
          },
          "metadata": {},
          "execution_count": 11
        }
      ]
    },
    {
      "cell_type": "code",
      "metadata": {
        "colab": {
          "base_uri": "https://localhost:8080/",
          "height": 422
        },
        "id": "VBcnTwn-Dh98",
        "outputId": "3feb674e-8fce-493a-b00b-939c930ab824"
      },
      "source": [
        "# define model\n",
        "model = Sequential()\n",
        "model.add(Dense(26, activation='relu', input_shape=(n_features,)))\n",
        "model.add(Dense(13, activation='relu'))\n",
        "model.add(Dense(1, activation='sigmoid'))\n",
        "tf.keras.utils.plot_model(model, show_shapes=True)"
      ],
      "execution_count": 13,
      "outputs": [
        {
          "output_type": "execute_result",
          "data": {
            "image/png": "[encoded data removed]",
            "text/plain": [
              "<IPython.core.display.Image object>"
            ]
          },
          "metadata": {},
          "execution_count": 13
        }
      ]
    },
    {
      "cell_type": "code",
      "metadata": {
        "colab": {
          "base_uri": "https://localhost:8080/"
        },
        "id": "Hh9RfGsYDldP",
        "outputId": "459c41eb-f5dd-4e65-b795-5630b6f790a5"
      },
      "source": [
        "# compile the model\n",
        "model.compile(optimizer='adam', loss='binary_crossentropy', metrics=['AUC'])\n",
        "# fit the model\n",
        "model.fit(X_train, y_train, epochs=150, batch_size=32, verbose=1)"
      ],
      "execution_count": 17,
      "outputs": [
        {
          "output_type": "stream",
          "name": "stdout",
          "text": [
            "Epoch 1/150\n",
            "4805/4805 [==============================] - 23s 5ms/step - loss: 0.2526 - auc: 0.7361\n",
            "Epoch 2/150\n",
            "4805/4805 [==============================] - 22s 4ms/step - loss: 0.2524 - auc: 0.7364\n",
            "Epoch 3/150\n",
            "4805/4805 [==============================] - 22s 4ms/step - loss: 0.2523 - auc: 0.7371\n",
            "Epoch 4/150\n",
            "4805/4805 [==============================] - 21s 4ms/step - loss: 0.2518 - auc: 0.7390\n",
            "Epoch 5/150\n",
            "4805/4805 [==============================] - 22s 5ms/step - loss: 0.2519 - auc: 0.7389\n",
            "Epoch 6/150\n",
            "4805/4805 [==============================] - 22s 5ms/step - loss: 0.2520 - auc: 0.7378\n",
            "Epoch 7/150\n",
            "4805/4805 [==============================] - 22s 4ms/step - loss: 0.2517 - auc: 0.7392\n",
            "Epoch 8/150\n",
            "4805/4805 [==============================] - 22s 4ms/step - loss: 0.2518 - auc: 0.7390\n",
            "Epoch 9/150\n",
            "4805/4805 [==============================] - 22s 5ms/step - loss: 0.2517 - auc: 0.7391\n",
            "Epoch 10/150\n",
            "4805/4805 [==============================] - 22s 4ms/step - loss: 0.2514 - auc: 0.7405\n",
            "Epoch 11/150\n",
            "4805/4805 [==============================] - 22s 4ms/step - loss: 0.2512 - auc: 0.7411\n",
            "Epoch 12/150\n",
            "4805/4805 [==============================] - 22s 4ms/step - loss: 0.2512 - auc: 0.7414\n",
            "Epoch 13/150\n",
            "4805/4805 [==============================] - 22s 4ms/step - loss: 0.2512 - auc: 0.7406\n",
            "Epoch 14/150\n",
            "4805/4805 [==============================] - 22s 4ms/step - loss: 0.2512 - auc: 0.7415\n",
            "Epoch 15/150\n",
            "4805/4805 [==============================] - 21s 4ms/step - loss: 0.2511 - auc: 0.7420\n",
            "Epoch 16/150\n",
            "4805/4805 [==============================] - 22s 4ms/step - loss: 0.2511 - auc: 0.7415\n",
            "Epoch 17/150\n",
            "4805/4805 [==============================] - 22s 4ms/step - loss: 0.2513 - auc: 0.7409\n",
            "Epoch 18/150\n",
            "4805/4805 [==============================] - 21s 4ms/step - loss: 0.2510 - auc: 0.7426\n",
            "Epoch 19/150\n",
            "4805/4805 [==============================] - 22s 5ms/step - loss: 0.2513 - auc: 0.7413\n",
            "Epoch 20/150\n",
            "4805/4805 [==============================] - 22s 5ms/step - loss: 0.2512 - auc: 0.7418\n",
            "Epoch 21/150\n",
            "4805/4805 [==============================] - 22s 4ms/step - loss: 0.2512 - auc: 0.7414\n",
            "Epoch 22/150\n",
            "4805/4805 [==============================] - 22s 4ms/step - loss: 0.2513 - auc: 0.7409\n",
            "Epoch 23/150\n",
            "4805/4805 [==============================] - 22s 5ms/step - loss: 0.2511 - auc: 0.7417\n",
            "Epoch 24/150\n",
            "4805/4805 [==============================] - 22s 5ms/step - loss: 0.2511 - auc: 0.7417\n",
            "Epoch 25/150\n",
            "4805/4805 [==============================] - 22s 5ms/step - loss: 0.2512 - auc: 0.7415\n",
            "Epoch 26/150\n",
            "4805/4805 [==============================] - 22s 5ms/step - loss: 0.2512 - auc: 0.7419\n",
            "Epoch 27/150\n",
            "4805/4805 [==============================] - 22s 5ms/step - loss: 0.2511 - auc: 0.7419\n",
            "Epoch 28/150\n",
            "4805/4805 [==============================] - 22s 5ms/step - loss: 0.2510 - auc: 0.7417\n",
            "Epoch 29/150\n",
            "4805/4805 [==============================] - 22s 5ms/step - loss: 0.2514 - auc: 0.7408\n",
            "Epoch 30/150\n",
            "4805/4805 [==============================] - 22s 5ms/step - loss: 0.2513 - auc: 0.7413\n",
            "Epoch 31/150\n",
            "4805/4805 [==============================] - 22s 5ms/step - loss: 0.2510 - auc: 0.7428\n",
            "Epoch 32/150\n",
            "4805/4805 [==============================] - 22s 5ms/step - loss: 0.2514 - auc: 0.7411\n",
            "Epoch 33/150\n",
            "4805/4805 [==============================] - 22s 5ms/step - loss: 0.2513 - auc: 0.7414\n",
            "Epoch 34/150\n",
            "4805/4805 [==============================] - 22s 5ms/step - loss: 0.2513 - auc: 0.7415\n",
            "Epoch 35/150\n",
            "4805/4805 [==============================] - 22s 5ms/step - loss: 0.2511 - auc: 0.7421\n",
            "Epoch 36/150\n",
            "4805/4805 [==============================] - 22s 5ms/step - loss: 0.2510 - auc: 0.7426\n",
            "Epoch 37/150\n",
            "4805/4805 [==============================] - 22s 5ms/step - loss: 0.2512 - auc: 0.7420\n",
            "Epoch 38/150\n",
            "4805/4805 [==============================] - 22s 5ms/step - loss: 0.2514 - auc: 0.7419\n",
            "Epoch 39/150\n",
            "4805/4805 [==============================] - 22s 5ms/step - loss: 0.2514 - auc: 0.7417\n",
            "Epoch 40/150\n",
            "4805/4805 [==============================] - 22s 5ms/step - loss: 0.2510 - auc: 0.7424\n",
            "Epoch 41/150\n",
            "4805/4805 [==============================] - 22s 5ms/step - loss: 0.2508 - auc: 0.7425\n",
            "Epoch 42/150\n",
            "4805/4805 [==============================] - 22s 5ms/step - loss: 0.2510 - auc: 0.7430\n",
            "Epoch 43/150\n",
            "4805/4805 [==============================] - 22s 5ms/step - loss: 0.2511 - auc: 0.7418\n",
            "Epoch 44/150\n",
            "4805/4805 [==============================] - 22s 5ms/step - loss: 0.2510 - auc: 0.7422\n",
            "Epoch 45/150\n",
            "4805/4805 [==============================] - 22s 5ms/step - loss: 0.2508 - auc: 0.7424\n",
            "Epoch 46/150\n",
            "4805/4805 [==============================] - 22s 5ms/step - loss: 0.2508 - auc: 0.7430\n",
            "Epoch 47/150\n",
            "4805/4805 [==============================] - 22s 5ms/step - loss: 0.2509 - auc: 0.7426\n",
            "Epoch 48/150\n",
            "4805/4805 [==============================] - 22s 5ms/step - loss: 0.2511 - auc: 0.7423\n",
            "Epoch 49/150\n",
            "4805/4805 [==============================] - 22s 5ms/step - loss: 0.2507 - auc: 0.7427\n",
            "Epoch 50/150\n",
            "4805/4805 [==============================] - 22s 5ms/step - loss: 0.2508 - auc: 0.7427\n",
            "Epoch 51/150\n",
            "4805/4805 [==============================] - 22s 4ms/step - loss: 0.2511 - auc: 0.7418\n",
            "Epoch 52/150\n",
            "4805/4805 [==============================] - 22s 5ms/step - loss: 0.2507 - auc: 0.7428\n",
            "Epoch 53/150\n",
            "4805/4805 [==============================] - 22s 5ms/step - loss: 0.2508 - auc: 0.7426\n",
            "Epoch 54/150\n",
            "4805/4805 [==============================] - 22s 5ms/step - loss: 0.2509 - auc: 0.7422\n",
            "Epoch 55/150\n",
            "4805/4805 [==============================] - 22s 4ms/step - loss: 0.2508 - auc: 0.7426\n",
            "Epoch 56/150\n",
            "4805/4805 [==============================] - 22s 5ms/step - loss: 0.2508 - auc: 0.7423\n",
            "Epoch 57/150\n",
            "4805/4805 [==============================] - 22s 5ms/step - loss: 0.2507 - auc: 0.7425\n",
            "Epoch 58/150\n",
            "4805/4805 [==============================] - 22s 5ms/step - loss: 0.2508 - auc: 0.7424\n",
            "Epoch 59/150\n",
            "4805/4805 [==============================] - 22s 5ms/step - loss: 0.2507 - auc: 0.7432\n",
            "Epoch 60/150\n",
            "4805/4805 [==============================] - 22s 5ms/step - loss: 0.2507 - auc: 0.7428\n",
            "Epoch 61/150\n",
            "4805/4805 [==============================] - 22s 5ms/step - loss: 0.2508 - auc: 0.7427\n",
            "Epoch 62/150\n",
            "4805/4805 [==============================] - 22s 5ms/step - loss: 0.2508 - auc: 0.7434\n",
            "Epoch 63/150\n",
            "4805/4805 [==============================] - 22s 5ms/step - loss: 0.2508 - auc: 0.7432\n",
            "Epoch 64/150\n",
            "4805/4805 [==============================] - 22s 5ms/step - loss: 0.2509 - auc: 0.7432\n",
            "Epoch 65/150\n",
            "4805/4805 [==============================] - 22s 5ms/step - loss: 0.2508 - auc: 0.7434\n",
            "Epoch 66/150\n",
            "4805/4805 [==============================] - 22s 5ms/step - loss: 0.2508 - auc: 0.7431\n",
            "Epoch 67/150\n",
            "4805/4805 [==============================] - 22s 4ms/step - loss: 0.2510 - auc: 0.7433\n",
            "Epoch 68/150\n",
            "4805/4805 [==============================] - 22s 5ms/step - loss: 0.2511 - auc: 0.7427\n",
            "Epoch 69/150\n",
            "4805/4805 [==============================] - 22s 5ms/step - loss: 0.2509 - auc: 0.7429\n",
            "Epoch 70/150\n",
            "4805/4805 [==============================] - 22s 5ms/step - loss: 0.2513 - auc: 0.7421\n",
            "Epoch 71/150\n",
            "4805/4805 [==============================] - 22s 5ms/step - loss: 0.2508 - auc: 0.7432\n",
            "Epoch 72/150\n",
            "4805/4805 [==============================] - 22s 5ms/step - loss: 0.2510 - auc: 0.7429\n",
            "Epoch 73/150\n",
            "4805/4805 [==============================] - 22s 5ms/step - loss: 0.2510 - auc: 0.7429\n",
            "Epoch 74/150\n",
            "4805/4805 [==============================] - 22s 5ms/step - loss: 0.2513 - auc: 0.7431\n",
            "Epoch 75/150\n",
            "4805/4805 [==============================] - 23s 5ms/step - loss: 0.2513 - auc: 0.7418\n",
            "Epoch 76/150\n",
            "4805/4805 [==============================] - 23s 5ms/step - loss: 0.2507 - auc: 0.7433\n",
            "Epoch 77/150\n",
            "4805/4805 [==============================] - 23s 5ms/step - loss: 0.2513 - auc: 0.7420\n",
            "Epoch 78/150\n",
            "4805/4805 [==============================] - 22s 5ms/step - loss: 0.2511 - auc: 0.7425\n",
            "Epoch 79/150\n",
            "4805/4805 [==============================] - 23s 5ms/step - loss: 0.2513 - auc: 0.7426\n",
            "Epoch 80/150\n",
            "4805/4805 [==============================] - 22s 5ms/step - loss: 0.2508 - auc: 0.7433\n",
            "Epoch 81/150\n",
            "4805/4805 [==============================] - 22s 5ms/step - loss: 0.2508 - auc: 0.7426\n",
            "Epoch 82/150\n",
            "4805/4805 [==============================] - 23s 5ms/step - loss: 0.2508 - auc: 0.7432\n",
            "Epoch 83/150\n",
            "4805/4805 [==============================] - 23s 5ms/step - loss: 0.2508 - auc: 0.7424\n",
            "Epoch 84/150\n",
            "4805/4805 [==============================] - 23s 5ms/step - loss: 0.2511 - auc: 0.7427\n",
            "Epoch 85/150\n",
            "4805/4805 [==============================] - 22s 5ms/step - loss: 0.2511 - auc: 0.7432\n",
            "Epoch 86/150\n",
            "4805/4805 [==============================] - 22s 5ms/step - loss: 0.2512 - auc: 0.7423\n",
            "Epoch 87/150\n",
            "4805/4805 [==============================] - 22s 5ms/step - loss: 0.2509 - auc: 0.7430\n",
            "Epoch 88/150\n",
            "4805/4805 [==============================] - 23s 5ms/step - loss: 0.2513 - auc: 0.7427\n",
            "Epoch 89/150\n",
            "4805/4805 [==============================] - 23s 5ms/step - loss: 0.2513 - auc: 0.7423\n",
            "Epoch 90/150\n",
            "4805/4805 [==============================] - 23s 5ms/step - loss: 0.2509 - auc: 0.7436\n",
            "Epoch 91/150\n",
            "4805/4805 [==============================] - 23s 5ms/step - loss: 0.2510 - auc: 0.7433\n",
            "Epoch 92/150\n",
            "4805/4805 [==============================] - 23s 5ms/step - loss: 0.2509 - auc: 0.7429\n",
            "Epoch 93/150\n",
            "4805/4805 [==============================] - 23s 5ms/step - loss: 0.2507 - auc: 0.7435\n",
            "Epoch 94/150\n",
            "4805/4805 [==============================] - 22s 5ms/step - loss: 0.2507 - auc: 0.7436\n",
            "Epoch 95/150\n",
            "4805/4805 [==============================] - 23s 5ms/step - loss: 0.2509 - auc: 0.7427\n",
            "Epoch 96/150\n",
            "4805/4805 [==============================] - 23s 5ms/step - loss: 0.2510 - auc: 0.7429\n",
            "Epoch 97/150\n",
            "4805/4805 [==============================] - 22s 5ms/step - loss: 0.2506 - auc: 0.7437\n",
            "Epoch 98/150\n",
            "4805/4805 [==============================] - 23s 5ms/step - loss: 0.2505 - auc: 0.7435\n",
            "Epoch 99/150\n",
            "4805/4805 [==============================] - 23s 5ms/step - loss: 0.2506 - auc: 0.7437\n",
            "Epoch 100/150\n",
            "4805/4805 [==============================] - 23s 5ms/step - loss: 0.2509 - auc: 0.7433\n",
            "Epoch 101/150\n",
            "4805/4805 [==============================] - 23s 5ms/step - loss: 0.2514 - auc: 0.7419\n",
            "Epoch 102/150\n",
            "4805/4805 [==============================] - 22s 5ms/step - loss: 0.2511 - auc: 0.7430\n",
            "Epoch 103/150\n",
            "4805/4805 [==============================] - 22s 5ms/step - loss: 0.2518 - auc: 0.7413\n",
            "Epoch 104/150\n",
            "4805/4805 [==============================] - 23s 5ms/step - loss: 0.2514 - auc: 0.7423\n",
            "Epoch 105/150\n",
            "4805/4805 [==============================] - 23s 5ms/step - loss: 0.2509 - auc: 0.7432\n",
            "Epoch 106/150\n",
            "4805/4805 [==============================] - 22s 5ms/step - loss: 0.2507 - auc: 0.7435\n",
            "Epoch 107/150\n",
            "4805/4805 [==============================] - 22s 5ms/step - loss: 0.2506 - auc: 0.7436\n",
            "Epoch 108/150\n",
            "4805/4805 [==============================] - 22s 5ms/step - loss: 0.2504 - auc: 0.7439\n",
            "Epoch 109/150\n",
            "4805/4805 [==============================] - 22s 5ms/step - loss: 0.2509 - auc: 0.7431\n",
            "Epoch 110/150\n",
            "4805/4805 [==============================] - 22s 5ms/step - loss: 0.2506 - auc: 0.7433\n",
            "Epoch 111/150\n",
            "4805/4805 [==============================] - 22s 5ms/step - loss: 0.2506 - auc: 0.7437\n",
            "Epoch 112/150\n",
            "4805/4805 [==============================] - 22s 5ms/step - loss: 0.2507 - auc: 0.7432\n",
            "Epoch 113/150\n",
            "4805/4805 [==============================] - 22s 5ms/step - loss: 0.2508 - auc: 0.7434\n",
            "Epoch 114/150\n",
            "4805/4805 [==============================] - 22s 5ms/step - loss: 0.2505 - auc: 0.7441\n",
            "Epoch 115/150\n",
            "4805/4805 [==============================] - 22s 5ms/step - loss: 0.2506 - auc: 0.7436\n",
            "Epoch 116/150\n",
            "4805/4805 [==============================] - 22s 5ms/step - loss: 0.2505 - auc: 0.7438\n",
            "Epoch 117/150\n",
            "4805/4805 [==============================] - 22s 5ms/step - loss: 0.2506 - auc: 0.7436\n",
            "Epoch 118/150\n",
            "4805/4805 [==============================] - 23s 5ms/step - loss: 0.2505 - auc: 0.7440\n",
            "Epoch 119/150\n",
            "4805/4805 [==============================] - 22s 5ms/step - loss: 0.2506 - auc: 0.7435\n",
            "Epoch 120/150\n",
            "4805/4805 [==============================] - 22s 5ms/step - loss: 0.2507 - auc: 0.7438\n",
            "Epoch 121/150\n",
            "4805/4805 [==============================] - 22s 5ms/step - loss: 0.2507 - auc: 0.7432\n",
            "Epoch 122/150\n",
            "4805/4805 [==============================] - 22s 5ms/step - loss: 0.2505 - auc: 0.7436\n",
            "Epoch 123/150\n",
            "4805/4805 [==============================] - 22s 5ms/step - loss: 0.2504 - auc: 0.7439\n",
            "Epoch 124/150\n",
            "4805/4805 [==============================] - 22s 5ms/step - loss: 0.2505 - auc: 0.7442\n",
            "Epoch 125/150\n",
            "4805/4805 [==============================] - 22s 5ms/step - loss: 0.2502 - auc: 0.7444\n",
            "Epoch 126/150\n",
            "4805/4805 [==============================] - 22s 5ms/step - loss: 0.2506 - auc: 0.7435\n",
            "Epoch 127/150\n",
            "4805/4805 [==============================] - 22s 5ms/step - loss: 0.2503 - auc: 0.7445\n",
            "Epoch 128/150\n",
            "4805/4805 [==============================] - 22s 5ms/step - loss: 0.2507 - auc: 0.7433\n",
            "Epoch 129/150\n",
            "4805/4805 [==============================] - 22s 5ms/step - loss: 0.2506 - auc: 0.7439\n",
            "Epoch 130/150\n",
            "4805/4805 [==============================] - 23s 5ms/step - loss: 0.2504 - auc: 0.7440\n",
            "Epoch 131/150\n",
            "4805/4805 [==============================] - 22s 5ms/step - loss: 0.2508 - auc: 0.7437\n",
            "Epoch 132/150\n",
            "4805/4805 [==============================] - 22s 5ms/step - loss: 0.2511 - auc: 0.7434\n",
            "Epoch 133/150\n",
            "4805/4805 [==============================] - 22s 5ms/step - loss: 0.2514 - auc: 0.7430\n",
            "Epoch 134/150\n",
            "4805/4805 [==============================] - 23s 5ms/step - loss: 0.2509 - auc: 0.7431\n",
            "Epoch 135/150\n",
            "4805/4805 [==============================] - 23s 5ms/step - loss: 0.2508 - auc: 0.7436\n",
            "Epoch 136/150\n",
            "4805/4805 [==============================] - 22s 5ms/step - loss: 0.2506 - auc: 0.7436\n",
            "Epoch 137/150\n",
            "4805/4805 [==============================] - 23s 5ms/step - loss: 0.2509 - auc: 0.7431\n",
            "Epoch 138/150\n",
            "4805/4805 [==============================] - 23s 5ms/step - loss: 0.2507 - auc: 0.7436\n",
            "Epoch 139/150\n",
            "4805/4805 [==============================] - 23s 5ms/step - loss: 0.2505 - auc: 0.7433\n",
            "Epoch 140/150\n",
            "4805/4805 [==============================] - 23s 5ms/step - loss: 0.2508 - auc: 0.7423\n",
            "Epoch 141/150\n",
            "4805/4805 [==============================] - 23s 5ms/step - loss: 0.2502 - auc: 0.7448\n",
            "Epoch 142/150\n",
            "4805/4805 [==============================] - 23s 5ms/step - loss: 0.2505 - auc: 0.7432\n",
            "Epoch 143/150\n",
            "4805/4805 [==============================] - 23s 5ms/step - loss: 0.2505 - auc: 0.7438\n",
            "Epoch 144/150\n",
            "4805/4805 [==============================] - 23s 5ms/step - loss: 0.2502 - auc: 0.7444\n",
            "Epoch 145/150\n",
            "4805/4805 [==============================] - 23s 5ms/step - loss: 0.2505 - auc: 0.7440\n",
            "Epoch 146/150\n",
            "4805/4805 [==============================] - 23s 5ms/step - loss: 0.2503 - auc: 0.7439\n",
            "Epoch 147/150\n",
            "4805/4805 [==============================] - 23s 5ms/step - loss: 0.2507 - auc: 0.7435\n",
            "Epoch 148/150\n",
            "4805/4805 [==============================] - 23s 5ms/step - loss: 0.2503 - auc: 0.7441\n",
            "Epoch 149/150\n",
            "4805/4805 [==============================] - 23s 5ms/step - loss: 0.2504 - auc: 0.7441\n",
            "Epoch 150/150\n",
            "4805/4805 [==============================] - 23s 5ms/step - loss: 0.2502 - auc: 0.7444\n"
          ]
        },
        {
          "output_type": "execute_result",
          "data": {
            "text/plain": [
              "<keras.callbacks.History at 0x7f8cce00ab90>"
            ]
          },
          "metadata": {},
          "execution_count": 17
        }
      ]
    },
    {
      "cell_type": "code",
      "metadata": {
        "colab": {
          "base_uri": "https://localhost:8080/"
        },
        "id": "nYgUQHUJD2L1",
        "outputId": "0f85a421-00de-4387-9419-065fcfb5466f"
      },
      "source": [
        "y_pred = model.predict(X_test)\n",
        "print(y_pred[:10])\n",
        "y_pred1 = y_pred.round()\n",
        "print(y_pred1[:10])"
      ],
      "execution_count": 22,
      "outputs": [
        {
          "output_type": "stream",
          "name": "stdout",
          "text": [
            "[[0.03076761]\n",
            " [0.15669483]\n",
            " [0.01345644]\n",
            " [0.04070157]\n",
            " [0.14937466]\n",
            " [0.02678996]\n",
            " [0.01389586]\n",
            " [0.03933763]\n",
            " [0.01963535]\n",
            " [0.06620194]]\n",
            "[[0.]\n",
            " [0.]\n",
            " [0.]\n",
            " [0.]\n",
            " [0.]\n",
            " [0.]\n",
            " [0.]\n",
            " [0.]\n",
            " [0.]\n",
            " [0.]]\n"
          ]
        }
      ]
    },
    {
      "cell_type": "code",
      "metadata": {
        "colab": {
          "base_uri": "https://localhost:8080/"
        },
        "id": "b9ICLFXHTu8w",
        "outputId": "6a8b51d3-0c23-4db1-87f6-13e78a616b3c"
      },
      "source": [
        "y_pred[:,0]"
      ],
      "execution_count": 24,
      "outputs": [
        {
          "output_type": "execute_result",
          "data": {
            "text/plain": [
              "array([0.03076761, 0.15669483, 0.01345644, ..., 0.01524035, 0.04604857,\n",
              "       0.1776075 ], dtype=float32)"
            ]
          },
          "metadata": {},
          "execution_count": 24
        }
      ]
    },
    {
      "cell_type": "code",
      "metadata": {
        "colab": {
          "base_uri": "https://localhost:8080/",
          "height": 204
        },
        "id": "LhAyI9iZFadY",
        "outputId": "24c442c7-2005-4f8a-9976-e78b4c2b35e8"
      },
      "source": [
        "# initialise data of lists.\n",
        "data = {'SK_ID_CURR':SK_ID_CURR_test.to_list(),\n",
        "        'TARGET':y_pred[:,0]}\n",
        " \n",
        "# Create DataFrame\n",
        "df = pd.DataFrame(data)\n",
        "df.to_csv('/content/drive/MyDrive/data/Self-Case-Study-1/MLP_Submission.csv', index=False)\n",
        "df.head()"
      ],
      "execution_count": 25,
      "outputs": [
        {
          "output_type": "execute_result",
          "data": {
            "text/html": [
              "<div>\n",
              "<style scoped>\n",
              "    .dataframe tbody tr th:only-of-type {\n",
              "        vertical-align: middle;\n",
              "    }\n",
              "\n",
              "    .dataframe tbody tr th {\n",
              "        vertical-align: top;\n",
              "    }\n",
              "\n",
              "    .dataframe thead th {\n",
              "        text-align: right;\n",
              "    }\n",
              "</style>\n",
              "<table border=\"1\" class=\"dataframe\">\n",
              "  <thead>\n",
              "    <tr style=\"text-align: right;\">\n",
              "      <th></th>\n",
              "      <th>SK_ID_CURR</th>\n",
              "      <th>TARGET</th>\n",
              "    </tr>\n",
              "  </thead>\n",
              "  <tbody>\n",
              "    <tr>\n",
              "      <th>0</th>\n",
              "      <td>100001</td>\n",
              "      <td>0.030768</td>\n",
              "    </tr>\n",
              "    <tr>\n",
              "      <th>1</th>\n",
              "      <td>100005</td>\n",
              "      <td>0.156695</td>\n",
              "    </tr>\n",
              "    <tr>\n",
              "      <th>2</th>\n",
              "      <td>100013</td>\n",
              "      <td>0.013456</td>\n",
              "    </tr>\n",
              "    <tr>\n",
              "      <th>3</th>\n",
              "      <td>100028</td>\n",
              "      <td>0.040702</td>\n",
              "    </tr>\n",
              "    <tr>\n",
              "      <th>4</th>\n",
              "      <td>100038</td>\n",
              "      <td>0.149375</td>\n",
              "    </tr>\n",
              "  </tbody>\n",
              "</table>\n",
              "</div>"
            ],
            "text/plain": [
              "   SK_ID_CURR    TARGET\n",
              "0      100001  0.030768\n",
              "1      100005  0.156695\n",
              "2      100013  0.013456\n",
              "3      100028  0.040702\n",
              "4      100038  0.149375"
            ]
          },
          "metadata": {},
          "execution_count": 25
        }
      ]
    },
    {
      "cell_type": "markdown",
      "metadata": {
        "id": "5Dgc_9yYsB0O"
      },
      "source": [
        "**Model Comparision**"
      ]
    },
    {
      "cell_type": "markdown",
      "metadata": {
        "id": "O1Mv2_uMfn9l"
      },
      "source": [
        "![image.png](data:image/png;base64,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)"
      ]
    },
    {
      "cell_type": "markdown",
      "metadata": {
        "id": "9IJbVS9BssA0"
      },
      "source": [
        "![image.png](data:image/png;base64,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)"
      ]
    },
    {
      "cell_type": "markdown",
      "metadata": {
        "id": "hxqjzAl0eray"
      },
      "source": [
        "![image.png](data:image/png;base64,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)"
      ]
    }
  ]
}